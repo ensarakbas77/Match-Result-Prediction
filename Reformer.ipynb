{
  "cells": [
    {
      "cell_type": "markdown",
      "metadata": {
        "id": "view-in-github",
        "colab_type": "text"
      },
      "source": [
        "<a href=\"https://colab.research.google.com/github/ensarakbas77/Match-Result-Prediction/blob/main/Reformer.ipynb\" target=\"_parent\"><img src=\"https://colab.research.google.com/assets/colab-badge.svg\" alt=\"Open In Colab\"/></a>"
      ]
    },
    {
      "cell_type": "code",
      "execution_count": null,
      "metadata": {
        "id": "R7eCPAtVoYRS"
      },
      "outputs": [],
      "source": [
        "import pandas as pd\n",
        "import matplotlib.pyplot as plt\n",
        "import seaborn as sns\n",
        "import numpy as np\n",
        "from collections import Counter\n",
        "from sklearn.preprocessing import StandardScaler\n",
        "from sklearn.preprocessing import OneHotEncoder\n",
        "from sklearn.utils.class_weight import compute_class_weight\n",
        "import torch\n",
        "import torch.nn as nn\n",
        "import torch.nn.functional as F\n",
        "from sklearn.preprocessing import LabelEncoder\n",
        "from torch.utils.data import TensorDataset, DataLoader\n",
        "from transformers import ReformerModel, ReformerConfig\n",
        "import copy\n",
        "import time\n",
        "from sklearn.metrics import (accuracy_score, precision_score, recall_score,\n",
        "                             f1_score, roc_auc_score, confusion_matrix, roc_curve, auc, classification_report)\n",
        "from sklearn.preprocessing import label_binarize"
      ]
    },
    {
      "cell_type": "code",
      "execution_count": null,
      "metadata": {
        "id": "lytiCwodRLuJ"
      },
      "outputs": [],
      "source": [
        "file_path= 'Matches.xlsx'\n",
        "df=pd.read_excel(file_path)"
      ]
    },
    {
      "cell_type": "code",
      "execution_count": null,
      "metadata": {
        "id": "gmsJETe3oWsr"
      },
      "outputs": [],
      "source": [
        "# Sadece geçerli sonuçları tut\n",
        "df = df[df['Sonuç'].isin([-1, 0, 1])]\n",
        "\n",
        "# Haritalama işlemi\n",
        "sonuc_mapping = {-1: 0, 0: 1, 1: 2}\n",
        "df['Sonuç'] = df['Sonuç'].map(sonuc_mapping)"
      ]
    },
    {
      "cell_type": "markdown",
      "metadata": {
        "id": "CmGMHvn6noml"
      },
      "source": [
        "# **SEKANS VE STATİK ÖZELLİKLER**"
      ]
    },
    {
      "cell_type": "code",
      "execution_count": null,
      "metadata": {
        "id": "Hpe8zxWtRLw5"
      },
      "outputs": [],
      "source": [
        "# Takıma ve tarihe göre sırala\n",
        "df = df.sort_values(by=['Takım ID', 'Tarih'])\n",
        "\n",
        "# Boş değeri doldur\n",
        "df[\"Şut Verimliliği\"] = df[\"Şut Verimliliği\"].fillna(df[\"Şut Verimliliği\"].mean())\n",
        "\n",
        "# Feature listeleri\n",
        "sequence_features = [\n",
        "    'Gol', 'Rakip Gol', 'Topla Oynama(%)', 'Şut', 'İsabetli Şut', 'Başarılı Pas',\n",
        "    'Pas Başarısı(%)', 'Korner', 'Orta', 'Faul', 'Ofsayt',\n",
        "    'Rakip Topla Oynama(%)', 'Rakip Şut', 'Rakip İsabetli Şut', 'Rakip Başarılı Pas',\n",
        "    'Rakip Pas Başarısı(%)', 'Rakip Korner', 'Rakip Orta', 'Rakip Faul', 'Rakip Ofsayt'\n",
        "]\n",
        "\n",
        "static_features = [\n",
        "    'Takım ID', 'Rakip Takım ID', 'Is_Home', 'Sezon', 'Ay', 'Haftanın Günü',\n",
        "    'Şut Verimliliği', 'Son 5 Maç Gol Ort', 'Son 5 Maç Galibiyet Oranı'\n",
        "]\n",
        "\n",
        "\n",
        "feature_means = df[sequence_features].mean().values\n",
        "\n",
        "def pad_sequence(seq, K, mean_vec):\n",
        "    if len(seq) < K:\n",
        "        padding = np.tile(mean_vec, (K - len(seq), 1))\n",
        "        return np.vstack([padding, seq])\n",
        "    return seq\n",
        "\n",
        "\n",
        "K = 10\n",
        "X_seq = []\n",
        "X_static = []\n",
        "y = []\n",
        "\n",
        "for idx, row in df.iterrows():\n",
        "    takim_id = row['Takım ID']\n",
        "    rakip_id = row['Rakip Takım ID']\n",
        "    tarih = row['Tarih']\n",
        "\n",
        "    takim_gecmis = df[(df['Takım ID'] == takim_id) & (df['Tarih'] < tarih)].sort_values(by='Tarih').tail(K)\n",
        "\n",
        "    rakip_gecmis = df[(df['Takım ID'] == rakip_id) & (df['Tarih'] < tarih)].sort_values(by='Tarih').tail(K)\n",
        "\n",
        "    #if len(takim_gecmis) < 1 or len(rakip_gecmis) < 1:\n",
        "        #continue\n",
        "\n",
        "    takim_seq = pad_sequence(takim_gecmis[sequence_features].values, K, feature_means)\n",
        "    rakip_seq = pad_sequence(rakip_gecmis[sequence_features].values, K, feature_means)\n",
        "\n",
        "    full_seq = np.vstack([takim_seq, rakip_seq])\n",
        "\n",
        "    static_vec = row[static_features].values.astype(np.float32)\n",
        "    label = row['Sonuç']\n",
        "\n",
        "    X_seq.append(full_seq)\n",
        "    X_static.append(static_vec)\n",
        "    y.append(label)\n"
      ]
    },
    {
      "cell_type": "code",
      "execution_count": null,
      "metadata": {
        "colab": {
          "base_uri": "https://localhost:8080/"
        },
        "id": "sk-nzuIO9wGy",
        "outputId": "39dc6ccc-db22-4024-dfc3-8561e026f60a"
      },
      "outputs": [
        {
          "output_type": "stream",
          "name": "stdout",
          "text": [
            "X_seq shape     : (3734, 20, 20)\n",
            "X_static shape  : (3734, 9)\n",
            "y shape         : (3734,)\n",
            "Sınıf dağılımı  : Counter({np.int64(2): 2241, np.int64(0): 788, np.int64(1): 705})\n"
          ]
        }
      ],
      "source": [
        "X_seq = np.array(X_seq, dtype=np.float32)\n",
        "X_static = np.array(X_static, dtype=np.float32)\n",
        "y = np.array(y, dtype=np.int64)\n",
        "\n",
        "print(\"X_seq shape     :\", X_seq.shape)\n",
        "print(\"X_static shape  :\", X_static.shape)\n",
        "print(\"y shape         :\", y.shape)\n",
        "print(\"Sınıf dağılımı  :\", Counter(y))\n"
      ]
    },
    {
      "cell_type": "markdown",
      "metadata": {
        "id": "ldhoKEPp9y--"
      },
      "source": [
        "# **Eğitim & Test Ayrımı**"
      ]
    },
    {
      "cell_type": "code",
      "execution_count": null,
      "metadata": {
        "colab": {
          "base_uri": "https://localhost:8080/"
        },
        "id": "CCqq4bBV9wJu",
        "outputId": "aa93dc86-627d-4c06-89cc-85abbe3412d2"
      },
      "outputs": [
        {
          "output_type": "stream",
          "name": "stdout",
          "text": [
            "Train: 2614 Val: 560 Test: 560\n",
            "Train Sınıf Dağılımı: Counter({np.int64(2): 1604, np.int64(0): 512, np.int64(1): 498})\n",
            "Val   Sınıf Dağılımı: Counter({np.int64(2): 338, np.int64(0): 121, np.int64(1): 101})\n",
            "Test  Sınıf Dağılımı: Counter({np.int64(2): 299, np.int64(0): 155, np.int64(1): 106})\n"
          ]
        }
      ],
      "source": [
        "val_ratio = 0.15\n",
        "test_ratio = 0.15\n",
        "\n",
        "total_samples = len(X_seq)\n",
        "test_size = int(total_samples * test_ratio)\n",
        "val_size = int(total_samples * val_ratio)\n",
        "train_size = total_samples - val_size - test_size\n",
        "\n",
        "X_seq_train = X_seq[:train_size]\n",
        "X_static_train = X_static[:train_size]\n",
        "y_train = y[:train_size]\n",
        "\n",
        "X_seq_val = X_seq[train_size:train_size + val_size]\n",
        "X_static_val = X_static[train_size:train_size + val_size]\n",
        "y_val = y[train_size:train_size + val_size]\n",
        "\n",
        "X_seq_test = X_seq[-test_size:]\n",
        "X_static_test = X_static[-test_size:]\n",
        "y_test = y[-test_size:]\n",
        "\n",
        "\n",
        "print(\"Train:\", len(y_train), \"Val:\", len(y_val), \"Test:\", len(y_test))\n",
        "print(\"Train Sınıf Dağılımı:\", Counter(y_train))\n",
        "print(\"Val   Sınıf Dağılımı:\", Counter(y_val))\n",
        "print(\"Test  Sınıf Dağılımı:\", Counter(y_test))\n"
      ]
    },
    {
      "cell_type": "markdown",
      "metadata": {
        "id": "QCVOfUvG9941"
      },
      "source": [
        "# **Encoding + Ölçekleme**"
      ]
    },
    {
      "cell_type": "code",
      "execution_count": null,
      "metadata": {
        "id": "OhsVh0sI9wMy"
      },
      "outputs": [],
      "source": [
        "# 1. Tüm setleri DataFrame'e çevir\n",
        "df_static_train = pd.DataFrame(X_static_train, columns=static_features)\n",
        "df_static_val   = pd.DataFrame(X_static_val,   columns=static_features)\n",
        "df_static_test  = pd.DataFrame(X_static_test,  columns=static_features)\n",
        "\n",
        "# 2. Takım ve Rakip ID'leri ayır\n",
        "takim_ids_train = df_static_train[\"Takım ID\"].values.astype(np.int64)\n",
        "rakip_ids_train = df_static_train[\"Rakip Takım ID\"].values.astype(np.int64)\n",
        "\n",
        "takim_ids_val = df_static_val[\"Takım ID\"].values.astype(np.int64)\n",
        "rakip_ids_val = df_static_val[\"Rakip Takım ID\"].values.astype(np.int64)\n",
        "\n",
        "takim_ids_test = df_static_test[\"Takım ID\"].values.astype(np.int64)\n",
        "rakip_ids_test = df_static_test[\"Rakip Takım ID\"].values.astype(np.int64)\n",
        "\n",
        "# 3. Encoding yapılacak sütunlar\n",
        "categorical_ohe_cols = ['Sezon', 'Ay', 'Haftanın Günü']\n",
        "numerical_cols = ['Is_Home', 'Şut Verimliliği', 'Son 5 Maç Gol Ort', 'Son 5 Maç Galibiyet Oranı']\n",
        "\n",
        "# 4. One-Hot Encoder (sadece train'e fit et)\n",
        "ohe = OneHotEncoder(sparse_output=False, handle_unknown='ignore')\n",
        "ohe.fit(df_static_train[categorical_ohe_cols])\n",
        "\n",
        "# 5. Encode edilmiş kategorik özellikler\n",
        "ohe_train = ohe.transform(df_static_train[categorical_ohe_cols])\n",
        "ohe_val   = ohe.transform(df_static_val[categorical_ohe_cols])\n",
        "ohe_test  = ohe.transform(df_static_test[categorical_ohe_cols])\n",
        "\n",
        "# 6. Numerik özellikler için StandardScaler (sadece train'e fit et)\n",
        "scaler = StandardScaler()\n",
        "scaler.fit(df_static_train[numerical_cols])\n",
        "\n",
        "scaled_train = scaler.transform(df_static_train[numerical_cols])\n",
        "scaled_val   = scaler.transform(df_static_val[numerical_cols])\n",
        "scaled_test  = scaler.transform(df_static_test[numerical_cols])\n",
        "\n",
        "# 7. Final encode edilmiş X_static verileri\n",
        "X_static_train_encoded = np.hstack([ohe_train, scaled_train]).astype(np.float32)\n",
        "X_static_val_encoded   = np.hstack([ohe_val, scaled_val]).astype(np.float32)\n",
        "X_static_test_encoded  = np.hstack([ohe_test, scaled_test]).astype(np.float32)\n",
        "\n",
        "\n",
        "# === SEKANS ÖZELLİKLERİ ===\n",
        "# X_seq: (N, T=20, F=20)\n",
        "N_train = X_seq_train.shape[0]\n",
        "N_val   = X_seq_val.shape[0]\n",
        "N_test  = X_seq_test.shape[0]\n",
        "seq_len = X_seq_train.shape[1]\n",
        "F       = X_seq_train.shape[2]\n",
        "\n",
        "scaler_seq = StandardScaler()\n",
        "\n",
        "# --- Train: fit + transform ---\n",
        "X_seq_train_flat = X_seq_train.reshape(-1, F)  # (N*T, F)\n",
        "X_seq_train_scaled_flat = scaler_seq.fit_transform(X_seq_train_flat)\n",
        "X_seq_train_scaled = X_seq_train_scaled_flat.reshape(N_train, seq_len, F)\n",
        "\n",
        "# --- Val: transform only ---\n",
        "X_seq_val_flat = X_seq_val.reshape(-1, F)\n",
        "X_seq_val_scaled_flat = scaler_seq.transform(X_seq_val_flat)\n",
        "X_seq_val_scaled = X_seq_val_scaled_flat.reshape(N_val, seq_len, F)\n",
        "\n",
        "# --- Test: transform only ---\n",
        "X_seq_test_flat = X_seq_test.reshape(-1, F)\n",
        "X_seq_test_scaled_flat = scaler_seq.transform(X_seq_test_flat)\n",
        "X_seq_test_scaled = X_seq_test_scaled_flat.reshape(N_test, seq_len, F)\n"
      ]
    },
    {
      "cell_type": "code",
      "execution_count": null,
      "metadata": {
        "colab": {
          "base_uri": "https://localhost:8080/"
        },
        "id": "dnyYaG9W9wPk",
        "outputId": "4de60bdf-481d-4920-ba15-604c72670655"
      },
      "outputs": [
        {
          "output_type": "stream",
          "name": "stdout",
          "text": [
            "X_static_train: (2614, 36)\n",
            "X_static_val  : (560, 36)\n",
            "X_static_test : (560, 36)\n",
            "\n",
            "takim_ids_train: (2614,)\n",
            "takim_ids_test (560,)\n",
            "takim_ids_val (560,)\n",
            "\n",
            "rakip_ids_train: (2614,)\n",
            "rakip_ids_test (560,)\n",
            "rakip_ids_val (560,)\n",
            "\n",
            "X_seq_train: (2614, 20, 20)\n",
            "X_seq_val  : (560, 20, 20)\n",
            "X_seq_test : (560, 20, 20)\n"
          ]
        }
      ],
      "source": [
        "X_static_train = X_static_train_encoded\n",
        "X_static_val   = X_static_val_encoded\n",
        "X_static_test  = X_static_test_encoded\n",
        "\n",
        "X_seq_train = X_seq_train_scaled\n",
        "X_seq_val   = X_seq_val_scaled\n",
        "X_seq_test  = X_seq_test_scaled\n",
        "\n",
        "print(\"X_static_train:\", X_static_train.shape)\n",
        "print(\"X_static_val  :\", X_static_val.shape)\n",
        "print(\"X_static_test :\", X_static_test.shape)\n",
        "print()\n",
        "print(\"takim_ids_train:\", takim_ids_train.shape)\n",
        "print(\"takim_ids_test\", takim_ids_test.shape)\n",
        "print(\"takim_ids_val\", takim_ids_val.shape)\n",
        "print()\n",
        "print(\"rakip_ids_train:\", rakip_ids_train.shape)\n",
        "print(\"rakip_ids_test\", rakip_ids_test.shape)\n",
        "print(\"rakip_ids_val\", rakip_ids_val.shape)\n",
        "print()\n",
        "print(\"X_seq_train:\", X_seq_train.shape)\n",
        "print(\"X_seq_val  :\", X_seq_val.shape)\n",
        "print(\"X_seq_test :\", X_seq_test.shape)"
      ]
    },
    {
      "cell_type": "code",
      "execution_count": null,
      "metadata": {
        "id": "puxw34ML9wSN"
      },
      "outputs": [],
      "source": [
        "le = LabelEncoder()\n",
        "\n",
        "# Tüm ID'leri birleştir\n",
        "all_ids = np.concatenate([takim_ids_train, takim_ids_val, takim_ids_test,\n",
        "                          rakip_ids_train, rakip_ids_val, rakip_ids_test])\n",
        "\n",
        "# Fit işlemi tüm ID'lere yapılmalı\n",
        "le.fit(all_ids)\n",
        "\n",
        "# Encode işlemi (dönüştürme)\n",
        "takim_ids_train_enc = le.transform(takim_ids_train)\n",
        "rakip_ids_train_enc = le.transform(rakip_ids_train)\n",
        "\n",
        "takim_ids_val_enc = le.transform(takim_ids_val)\n",
        "rakip_ids_val_enc = le.transform(rakip_ids_val)\n",
        "\n",
        "takim_ids_test_enc = le.transform(takim_ids_test)\n",
        "rakip_ids_test_enc = le.transform(rakip_ids_test)\n",
        "\n",
        "# Yeni vocab size\n",
        "team_vocab_size = len(le.classes_)\n"
      ]
    },
    {
      "cell_type": "markdown",
      "metadata": {
        "id": "B-Bhk-qB-PaX"
      },
      "source": [
        "# **MODELLEME**"
      ]
    },
    {
      "cell_type": "code",
      "execution_count": null,
      "metadata": {
        "colab": {
          "base_uri": "https://localhost:8080/"
        },
        "id": "IiGvdTyhbWRC",
        "outputId": "93dda42a-8426-41c8-ed83-dbb8ed8ee540"
      },
      "outputs": [
        {
          "output_type": "stream",
          "name": "stdout",
          "text": [
            "x_seq_batch: torch.Size([32, 20, 20])\n",
            "x_static_batch: torch.Size([32, 36])\n",
            "takim_ids_batch: torch.Size([32])\n",
            "rakip_ids_batch: torch.Size([32])\n",
            "y_batch: torch.Size([32])\n"
          ]
        }
      ],
      "source": [
        "device = torch.device(\"cuda\" if torch.cuda.is_available() else \"cpu\")\n",
        "\n",
        "def to_tensor(x, dtype=torch.float32):\n",
        "    return torch.tensor(x, dtype=dtype)\n",
        "\n",
        "# Eğitim verileri\n",
        "x_seq_train_tensor     = to_tensor(X_seq_train)\n",
        "x_static_train_tensor  = to_tensor(X_static_train)\n",
        "takim_train_tensor     = torch.tensor(takim_ids_train, dtype=torch.long)\n",
        "rakip_train_tensor     = torch.tensor(rakip_ids_train, dtype=torch.long)\n",
        "y_train_tensor         = torch.tensor(y_train, dtype=torch.long)\n",
        "\n",
        "train_dataset = TensorDataset(\n",
        "    x_seq_train_tensor,\n",
        "    x_static_train_tensor,\n",
        "    takim_train_tensor,\n",
        "    rakip_train_tensor,\n",
        "    y_train_tensor\n",
        ")\n",
        "\n",
        "# Doğrulama verileri\n",
        "x_seq_val_tensor     = to_tensor(X_seq_val)\n",
        "x_static_val_tensor  = to_tensor(X_static_val)\n",
        "takim_val_tensor     = torch.tensor(takim_ids_val, dtype=torch.long)\n",
        "rakip_val_tensor     = torch.tensor(rakip_ids_val, dtype=torch.long)\n",
        "y_val_tensor         = torch.tensor(y_val, dtype=torch.long)\n",
        "\n",
        "val_dataset = TensorDataset(\n",
        "    x_seq_val_tensor,\n",
        "    x_static_val_tensor,\n",
        "    takim_val_tensor,\n",
        "    rakip_val_tensor,\n",
        "    y_val_tensor\n",
        ")\n",
        "\n",
        "# Test verileri\n",
        "x_seq_test_tensor     = to_tensor(X_seq_test)\n",
        "x_static_test_tensor  = to_tensor(X_static_test)\n",
        "takim_test_tensor     = torch.tensor(takim_ids_test, dtype=torch.long)\n",
        "rakip_test_tensor     = torch.tensor(rakip_ids_test, dtype=torch.long)\n",
        "y_test_tensor         = torch.tensor(y_test, dtype=torch.long)\n",
        "\n",
        "test_dataset = TensorDataset(\n",
        "    x_seq_test_tensor,\n",
        "    x_static_test_tensor,\n",
        "    takim_test_tensor,\n",
        "    rakip_test_tensor,\n",
        "    y_test_tensor\n",
        ")\n",
        "\n",
        "\n",
        "batch_size = 32\n",
        "\n",
        "train_loader = DataLoader(train_dataset, batch_size=batch_size, shuffle=True)\n",
        "val_loader   = DataLoader(val_dataset, batch_size=batch_size, shuffle=False)\n",
        "test_loader  = DataLoader(test_dataset, batch_size=batch_size, shuffle=False)\n",
        "\n",
        "\n",
        "for batch in train_loader:\n",
        "    x_seq_batch, x_static_batch, takim_ids_batch, rakip_ids_batch, y_batch = batch\n",
        "    print(\"x_seq_batch:\", x_seq_batch.shape)\n",
        "    print(\"x_static_batch:\", x_static_batch.shape)\n",
        "    print(\"takim_ids_batch:\", takim_ids_batch.shape)\n",
        "    print(\"rakip_ids_batch:\", rakip_ids_batch.shape)\n",
        "    print(\"y_batch:\", y_batch.shape)\n",
        "    break\n"
      ]
    },
    {
      "cell_type": "code",
      "execution_count": null,
      "metadata": {
        "id": "cGei9Z-abWTl"
      },
      "outputs": [],
      "source": [
        "class ReformerClassifier(nn.Module):\n",
        "    def __init__(self, seq_feature_dim, static_input_dim, num_classes, team_vocab_size, embed_dim=16):\n",
        "        super(ReformerClassifier, self).__init__()\n",
        "\n",
        "        self.input_proj = nn.Linear(seq_feature_dim, 128)\n",
        "\n",
        "        config = ReformerConfig(\n",
        "            hidden_size=128,\n",
        "            axial_pos_embds=True,\n",
        "            axial_pos_shape=[5, 4],\n",
        "            axial_pos_embds_dim=[64, 64],\n",
        "            vocab_size=1,\n",
        "            num_attention_heads=4,\n",
        "            attention_head_size=32,\n",
        "            feed_forward_size=256,\n",
        "            num_hidden_layers=4,\n",
        "            is_decoder=False\n",
        "        )\n",
        "\n",
        "        self.reformer = ReformerModel(config)\n",
        "\n",
        "        self.static_ffn = nn.Sequential(\n",
        "            nn.Linear(static_input_dim, 64),\n",
        "            nn.ReLU(),\n",
        "            nn.Dropout(0.7)\n",
        "        )\n",
        "\n",
        "        self.team_embed = nn.Embedding(team_vocab_size, embed_dim)\n",
        "        self.rakip_embed = nn.Embedding(team_vocab_size, embed_dim)\n",
        "\n",
        "        self.classifier = nn.Sequential(\n",
        "            nn.Linear(352, 64),\n",
        "            nn.ReLU(),\n",
        "            nn.Dropout(0.7),\n",
        "            nn.Linear(64, num_classes)\n",
        "        )\n",
        "\n",
        "    def forward(self, x_seq, x_static, team_ids, rakip_ids):\n",
        "        x_seq = self.input_proj(x_seq)\n",
        "\n",
        "        output = self.reformer(inputs_embeds=x_seq)\n",
        "        cls_token = output.last_hidden_state[:, 0, :]\n",
        "\n",
        "        static_out = self.static_ffn(x_static)\n",
        "        team_out = self.team_embed(team_ids)\n",
        "        rakip_out = self.rakip_embed(rakip_ids)\n",
        "\n",
        "        #print(\"team_out:\", team_out.shape)\n",
        "        #print(\"rakip_out:\", rakip_out.shape)\n",
        "        #print(\"static_out:\", static_out.shape)\n",
        "        #print(\"cls_token:\", cls_token.shape)\n",
        "\n",
        "        # Merge\n",
        "        merged = torch.cat([cls_token, static_out, team_out, rakip_out], dim=1)\n",
        "        #print(\"merged:\", merged.shape)\n",
        "\n",
        "        logits = self.classifier(merged)\n",
        "\n",
        "        return logits"
      ]
    },
    {
      "cell_type": "code",
      "execution_count": null,
      "metadata": {
        "id": "MMfL3Ll6bWWN"
      },
      "outputs": [],
      "source": [
        "import torch.nn.functional as F\n",
        "\n",
        "team_vocab_size = int(\n",
        "    max(\n",
        "        takim_ids_train.max(),\n",
        "        rakip_ids_train.max(),\n",
        "        takim_ids_val.max(),\n",
        "        rakip_ids_val.max(),\n",
        "        takim_ids_test.max(),\n",
        "        rakip_ids_test.max()\n",
        "    ) + 1\n",
        ")\n",
        "\n",
        "\n",
        "model = ReformerClassifier(\n",
        "    seq_feature_dim=20,\n",
        "    static_input_dim=36,\n",
        "    num_classes=3,\n",
        "    team_vocab_size=team_vocab_size,\n",
        "    embed_dim=16\n",
        ")\n",
        "\n",
        "\n",
        "model.to(device)\n",
        "\n",
        "\n",
        "class FocalLoss(nn.Module):\n",
        "    def __init__(self, alpha=None, gamma=2.0):\n",
        "        super(FocalLoss, self).__init__()\n",
        "        self.alpha = alpha\n",
        "        self.gamma = gamma\n",
        "\n",
        "    def forward(self, inputs, targets):\n",
        "        ce_loss = F.cross_entropy(inputs, targets, weight=self.alpha, reduction='none')\n",
        "        pt = torch.exp(-ce_loss)\n",
        "        focal_loss = ((1 - pt) ** self.gamma) * ce_loss\n",
        "        return focal_loss.mean()\n",
        "\n",
        "\n",
        "# Class ağırlıklarını hesapla (train setine göre)\n",
        "class_weights = compute_class_weight('balanced', classes=np.unique(y_train), y=y_train)\n",
        "class_weights_tensor = torch.tensor(class_weights, dtype=torch.float32).to(device)\n",
        "\n",
        "# FocalLoss ile kriter tanımla\n",
        "criterion = FocalLoss(alpha=class_weights_tensor)\n",
        "\n",
        "# Kayıp fonksiyonu ve optimizer\n",
        "# criterion = nn.CrossEntropyLoss()\n",
        "\n",
        "optimizer = torch.optim.Adam(model.parameters(), lr=0.0002, weight_decay=1e-3)\n",
        "scheduler = torch.optim.lr_scheduler.ReduceLROnPlateau(optimizer, mode='min', factor=0.5, patience=10, verbose=True)"
      ]
    },
    {
      "cell_type": "code",
      "execution_count": null,
      "metadata": {
        "id": "l3P9_8rYoG8w"
      },
      "outputs": [],
      "source": [
        "def calculate_accuracy(y_pred, y_true):\n",
        "    preds = torch.argmax(y_pred, dim=1)\n",
        "    correct = (preds == y_true).sum().item()\n",
        "    return correct / y_true.size(0)\n",
        "\n",
        "\n",
        "def train_model(model, train_loader, val_loader, optimizer, criterion, device,\n",
        "                num_epochs=60, early_stopping_patience=5, save_path=None):\n",
        "\n",
        "    model.to(device)\n",
        "    best_val_acc = 0.0\n",
        "    best_model_wts = copy.deepcopy(model.state_dict())\n",
        "    patience_counter = 0\n",
        "\n",
        "    train_losses= []\n",
        "    val_losses= []\n",
        "    train_accuracies = []\n",
        "    val_accuracies = []\n",
        "\n",
        "    for epoch in range(num_epochs):\n",
        "        model.train()\n",
        "        train_loss = 0.0\n",
        "        train_acc = 0.0\n",
        "\n",
        "        for batch in train_loader:\n",
        "            x_seq, x_static, team_ids, rakip_ids, labels = [x.to(device) for x in batch]\n",
        "\n",
        "            optimizer.zero_grad()\n",
        "            outputs = model(x_seq, x_static, team_ids, rakip_ids)\n",
        "            loss = criterion(outputs, labels)\n",
        "            acc = calculate_accuracy(outputs, labels)\n",
        "\n",
        "            loss.backward()\n",
        "            optimizer.step()\n",
        "\n",
        "            train_loss += loss.item() * x_seq.size(0)\n",
        "            train_acc += acc * x_seq.size(0)\n",
        "\n",
        "        train_loss /= len(train_loader.dataset)\n",
        "        train_acc  /= len(train_loader.dataset)\n",
        "\n",
        "        model.eval()\n",
        "        val_loss = 0.0\n",
        "        val_acc = 0.0\n",
        "\n",
        "        with torch.no_grad():\n",
        "            for batch in val_loader:\n",
        "                x_seq, x_static, team_ids, rakip_ids, labels = [x.to(device) for x in batch]\n",
        "                outputs = model(x_seq, x_static, team_ids, rakip_ids)\n",
        "                loss = criterion(outputs, labels)\n",
        "                acc = calculate_accuracy(outputs, labels)\n",
        "\n",
        "                val_loss += loss.item() * x_seq.size(0)\n",
        "                val_acc += acc * x_seq.size(0)\n",
        "\n",
        "        val_loss /= len(val_loader.dataset)\n",
        "        val_acc  /= len(val_loader.dataset)\n",
        "\n",
        "        train_losses.append(train_loss)\n",
        "        val_losses.append(val_loss)\n",
        "        train_accuracies.append(train_acc)\n",
        "        val_accuracies.append(val_acc)\n",
        "\n",
        "        print(f\"Epoch {epoch+1}/{num_epochs} | \"\n",
        "              f\"Train Loss: {train_loss:.4f}, Acc: {train_acc:.4f} | \"\n",
        "              f\"Val Loss: {val_loss:.4f}, Acc: {val_acc:.4f}\")\n",
        "\n",
        "        scheduler.step(val_loss)\n",
        "\n",
        "        # Early stopping\n",
        "        if val_acc > best_val_acc:\n",
        "            best_val_acc = val_acc\n",
        "            best_model_wts = copy.deepcopy(model.state_dict())\n",
        "            patience_counter = 0\n",
        "            if save_path:\n",
        "                torch.save(model.state_dict(), save_path)\n",
        "        else:\n",
        "            patience_counter += 1\n",
        "            if patience_counter >= early_stopping_patience:\n",
        "                print(f\"Early stopping at epoch {epoch+1}\")\n",
        "                break\n",
        "\n",
        "    model.load_state_dict(best_model_wts)\n",
        "    return train_losses, val_losses, train_accuracies, val_accuracies"
      ]
    },
    {
      "cell_type": "code",
      "execution_count": null,
      "metadata": {
        "colab": {
          "base_uri": "https://localhost:8080/"
        },
        "id": "I7H3kyz5oG_r",
        "outputId": "f8887f36-7a4c-4fe8-a729-db62dffdfdcd"
      },
      "outputs": [
        {
          "output_type": "stream",
          "name": "stdout",
          "text": [
            "Epoch 1/60 | Train Loss: 0.5992, Acc: 0.2284 | Val Loss: 0.5741, Acc: 0.1857\n",
            "Epoch 2/60 | Train Loss: 0.5789, Acc: 0.2169 | Val Loss: 0.5715, Acc: 0.1929\n",
            "Epoch 3/60 | Train Loss: 0.5758, Acc: 0.2238 | Val Loss: 0.5743, Acc: 0.1750\n",
            "Epoch 4/60 | Train Loss: 0.5675, Acc: 0.2131 | Val Loss: 0.5637, Acc: 0.1982\n",
            "Epoch 5/60 | Train Loss: 0.5679, Acc: 0.2215 | Val Loss: 0.5623, Acc: 0.1929\n",
            "Epoch 6/60 | Train Loss: 0.5596, Acc: 0.2242 | Val Loss: 0.5606, Acc: 0.1875\n",
            "Epoch 7/60 | Train Loss: 0.5554, Acc: 0.2303 | Val Loss: 0.5579, Acc: 0.1857\n",
            "Epoch 8/60 | Train Loss: 0.5598, Acc: 0.2242 | Val Loss: 0.5556, Acc: 0.2107\n",
            "Epoch 9/60 | Train Loss: 0.5496, Acc: 0.2467 | Val Loss: 0.5504, Acc: 0.2143\n",
            "Epoch 10/60 | Train Loss: 0.5456, Acc: 0.2548 | Val Loss: 0.5451, Acc: 0.2143\n",
            "Epoch 11/60 | Train Loss: 0.5393, Acc: 0.2452 | Val Loss: 0.5429, Acc: 0.2000\n",
            "Epoch 12/60 | Train Loss: 0.5380, Acc: 0.2471 | Val Loss: 0.5396, Acc: 0.2018\n",
            "Epoch 13/60 | Train Loss: 0.5340, Acc: 0.2552 | Val Loss: 0.5379, Acc: 0.2089\n",
            "Epoch 14/60 | Train Loss: 0.5296, Acc: 0.2812 | Val Loss: 0.5341, Acc: 0.2339\n",
            "Epoch 15/60 | Train Loss: 0.5295, Acc: 0.2816 | Val Loss: 0.5263, Acc: 0.2286\n",
            "Epoch 16/60 | Train Loss: 0.5261, Acc: 0.2923 | Val Loss: 0.5264, Acc: 0.2804\n",
            "Epoch 17/60 | Train Loss: 0.5246, Acc: 0.2972 | Val Loss: 0.5276, Acc: 0.2250\n",
            "Epoch 18/60 | Train Loss: 0.5238, Acc: 0.2995 | Val Loss: 0.5248, Acc: 0.2625\n",
            "Epoch 19/60 | Train Loss: 0.5249, Acc: 0.2697 | Val Loss: 0.5174, Acc: 0.2411\n",
            "Epoch 20/60 | Train Loss: 0.5196, Acc: 0.2995 | Val Loss: 0.5195, Acc: 0.2589\n",
            "Epoch 21/60 | Train Loss: 0.5167, Acc: 0.3030 | Val Loss: 0.5183, Acc: 0.2750\n",
            "Early stopping at epoch 21\n",
            "\n",
            "\n",
            "Toplam eğitim süresi: 262.28 saniye\n"
          ]
        }
      ],
      "source": [
        "# Eğitim süresi ölçümü\n",
        "total_train_start = time.time()\n",
        "\n",
        "train_losses, val_losses, train_accs, val_accs = train_model(\n",
        "    model, train_loader, val_loader, optimizer, criterion, device,\n",
        "    num_epochs=60, early_stopping_patience=5\n",
        ")\n",
        "\n",
        "total_train_time = time.time() - total_train_start\n",
        "print()\n",
        "print(f\"\\nToplam eğitim süresi: {total_train_time:.2f} saniye\")"
      ]
    },
    {
      "cell_type": "code",
      "execution_count": null,
      "metadata": {
        "colab": {
          "base_uri": "https://localhost:8080/",
          "height": 472
        },
        "id": "MZgS3-mBoLEz",
        "outputId": "7546b0b1-a3f0-47d1-8f4d-82fcd15572f3"
      },
      "outputs": [
        {
          "output_type": "display_data",
          "data": {
            "text/plain": [
              "<Figure size 640x480 with 1 Axes>"
            ],
            "image/png": "[encoded data removed]"
          },
          "metadata": {}
        }
      ],
      "source": [
        "def plot_losses(train_losses, val_losses):\n",
        "    plt.plot(train_losses, label=\"Train\")\n",
        "    plt.plot(val_losses, label=\"Validation\")\n",
        "    plt.xlabel(\"Epoch\")\n",
        "    plt.ylabel(\"Loss\")\n",
        "    plt.title(\"Kayıp Grafiği\")\n",
        "    plt.legend()\n",
        "    plt.grid(True)\n",
        "    plt.show()\n",
        "\n",
        "plot_losses(train_losses, val_losses)"
      ]
    },
    {
      "cell_type": "code",
      "source": [
        "def evaluate_model_metrics_light(model, data_loader, device, class_names, criterion=None):\n",
        "    model.eval()\n",
        "    y_true, y_pred, y_prob = [], [], []\n",
        "    total_loss = 0.0\n",
        "    total_samples = 0\n",
        "\n",
        "    start_time = time.time()\n",
        "    with torch.no_grad():\n",
        "        for x_seq, x_static, team_ids, rakip_ids, labels in data_loader:\n",
        "            x_seq = x_seq.to(device)\n",
        "            x_static = x_static.to(device)\n",
        "            team_ids = team_ids.to(device)\n",
        "            rakip_ids = rakip_ids.to(device)\n",
        "            labels = labels.to(device)\n",
        "\n",
        "            outputs = model(x_seq, x_static, team_ids, rakip_ids)\n",
        "            probs = torch.softmax(outputs, dim=1)\n",
        "            preds = torch.argmax(probs, dim=1)\n",
        "\n",
        "            # 🔹 Kayıp hesapla (opsiyonel olarak criterion verilmişse)\n",
        "            if criterion is not None:\n",
        "                loss = criterion(outputs, labels)\n",
        "                total_loss += loss.item() * labels.size(0)\n",
        "                total_samples += labels.size(0)\n",
        "\n",
        "            y_true.append(labels.cpu())\n",
        "            y_pred.append(preds.cpu())\n",
        "            y_prob.append(probs.cpu())\n",
        "\n",
        "    y_true = torch.cat(y_true).numpy()\n",
        "    y_pred = torch.cat(y_pred).numpy()\n",
        "    y_prob = torch.cat(y_prob).numpy()\n",
        "    y_true_bin = label_binarize(y_true, classes=list(range(len(class_names))))\n",
        "\n",
        "    acc = accuracy_score(y_true, y_pred)\n",
        "\n",
        "    try:\n",
        "        auc_score = roc_auc_score(y_true_bin, y_prob, average='macro', multi_class='ovr')\n",
        "    except:\n",
        "        auc_score = None\n",
        "\n",
        "    cm = confusion_matrix(y_true, y_pred)\n",
        "\n",
        "    specificity_per_class = []\n",
        "    for i in range(len(class_names)):\n",
        "        tn = cm.sum() - (cm[i, :].sum() + cm[:, i].sum() - cm[i, i])\n",
        "        fp = cm[:, i].sum() - cm[i, i]\n",
        "        specificity = tn / (tn + fp) if (tn + fp) > 0 else 0\n",
        "        specificity_per_class.append(specificity)\n",
        "\n",
        "    metrics = {\n",
        "        \"Test Loss\": total_loss / total_samples if total_samples > 0 else None,\n",
        "        \"Accuracy\": acc,\n",
        "        #\"Precision\": prec,\n",
        "        #\"Recall (Sensitivity)\": rec,\n",
        "        #\"F1 Score\": f1,\n",
        "        #\"Specificity (avg)\": np.mean(specificity_per_class),\n",
        "        #\"AUC\": auc_score,\n",
        "        \"Inference Time (s)\": time.time() - start_time\n",
        "    }\n",
        "\n",
        "    return metrics, cm"
      ],
      "metadata": {
        "id": "wGsOf0Doobke"
      },
      "execution_count": null,
      "outputs": []
    },
    {
      "cell_type": "code",
      "source": [
        "class_names = [\"Mağlubiyet\", \"Beraberlik\", \"Galibiyet\"]\n",
        "metrics, confusion = evaluate_model_metrics_light(model, test_loader, device, class_names, criterion=criterion)\n",
        "\n",
        "\n",
        "print()\n",
        "for key, val in metrics.items():\n",
        "    print(f\"{key}: {val:.4f}\")\n",
        "\n",
        "print(\"\\nKarmaşıklık Matrisi:\")\n",
        "print(confusion)\n",
        "\n",
        "\n",
        "model.eval()\n",
        "y_true = []\n",
        "y_pred = []\n",
        "\n",
        "with torch.no_grad():\n",
        "    for x_seq, x_static, team_ids, rakip_ids, labels in test_loader:\n",
        "        x_seq = x_seq.to(device)\n",
        "        x_static = x_static.to(device)\n",
        "        team_ids = team_ids.to(device)\n",
        "        rakip_ids = rakip_ids.to(device)\n",
        "        labels = labels.to(device)\n",
        "\n",
        "        outputs = model(x_seq, x_static, team_ids, rakip_ids)\n",
        "        preds = torch.argmax(outputs, dim=1)\n",
        "\n",
        "        y_true.extend(labels.cpu().numpy())\n",
        "        y_pred.extend(preds.cpu().numpy())\n",
        "\n",
        "print(\"\\nClassification Report:\")\n",
        "print(classification_report(y_true, y_pred, target_names=class_names))\n",
        "\n",
        "# Karmaşıklık matrisi çiz\n",
        "cm = confusion_matrix(y_true, y_pred)\n",
        "plt.figure(figsize=(6, 5))\n",
        "sns.heatmap(cm, annot=True, fmt=\"d\", cmap=\"Blues\",\n",
        "            xticklabels=[\"Mağlubiyet\", \"Beraberlik\", \"Galibiyet\"],\n",
        "            yticklabels=[\"Mağlubiyet\", \"Beraberlik\", \"Galibiyet\"])\n",
        "plt.xlabel(\"Tahmin\")\n",
        "plt.ylabel(\"Gerçek\")\n",
        "plt.title(\"Karmaşıklık Matrisi\")\n",
        "plt.tight_layout()\n",
        "plt.show()"
      ],
      "metadata": {
        "colab": {
          "base_uri": "https://localhost:8080/",
          "height": 872
        },
        "id": "24E8oTVbobnM",
        "outputId": "327d8d26-6789-44bd-815b-0a884cc7b8ef"
      },
      "execution_count": null,
      "outputs": [
        {
          "output_type": "stream",
          "name": "stdout",
          "text": [
            "\n",
            "Test Loss: 0.6068\n",
            "Accuracy: 0.2768\n",
            "Inference Time (s): 0.4940\n",
            "\n",
            "Karmaşıklık Matrisi:\n",
            "[[ 61  91   3]\n",
            " [ 41  63   2]\n",
            " [ 57 211  31]]\n",
            "\n",
            "Classification Report:\n",
            "              precision    recall  f1-score   support\n",
            "\n",
            "  Mağlubiyet       0.38      0.39      0.39       155\n",
            "  Beraberlik       0.17      0.59      0.27       106\n",
            "   Galibiyet       0.86      0.10      0.19       299\n",
            "\n",
            "    accuracy                           0.28       560\n",
            "   macro avg       0.47      0.36      0.28       560\n",
            "weighted avg       0.60      0.28      0.26       560\n",
            "\n"
          ]
        },
        {
          "output_type": "display_data",
          "data": {
            "text/plain": [
              "<Figure size 600x500 with 2 Axes>"
            ],
            "image/png": "[encoded data removed]"
          },
          "metadata": {}
        }
      ]
    },
    {
      "cell_type": "code",
      "source": [
        "def plot_multiclass_roc(y_true, y_prob, class_names):\n",
        "    n_classes = len(class_names)\n",
        "    y_true_bin = label_binarize(y_true, classes=list(range(n_classes)))\n",
        "\n",
        "    fpr = dict()\n",
        "    tpr = dict()\n",
        "    roc_auc = dict()\n",
        "\n",
        "    for i in range(n_classes):\n",
        "        fpr[i], tpr[i], _ = roc_curve(y_true_bin[:, i], y_prob[:, i])\n",
        "        roc_auc[i] = auc(fpr[i], tpr[i])\n",
        "\n",
        "    # Mikro ortalama\n",
        "    fpr[\"micro\"], tpr[\"micro\"], _ = roc_curve(y_true_bin.ravel(), y_prob.ravel())\n",
        "    roc_auc[\"micro\"] = auc(fpr[\"micro\"], tpr[\"micro\"])\n",
        "\n",
        "    # ROC Eğrilerini çiz\n",
        "    plt.figure(figsize=(10, 6))\n",
        "    for i in range(n_classes):\n",
        "        plt.plot(fpr[i], tpr[i], label=f\"{class_names[i]} (AUC = {roc_auc[i]:.2f})\")\n",
        "\n",
        "    plt.plot([0, 1], [0, 1], 'k--', lw=1)\n",
        "    plt.xlabel(\"False Positive Rate\")\n",
        "    plt.ylabel(\"True Positive Rate\")\n",
        "    plt.title(\"ROC Eğrileri (Çok Sınıflı)\")\n",
        "    plt.legend(loc=\"lower right\")\n",
        "    plt.grid()\n",
        "    plt.tight_layout()\n",
        "    plt.show()"
      ],
      "metadata": {
        "id": "xBrsrLR9obpa"
      },
      "execution_count": null,
      "outputs": []
    },
    {
      "cell_type": "code",
      "source": [
        "model.eval()\n",
        "y_true, y_prob = [], []\n",
        "\n",
        "with torch.no_grad():\n",
        "    for x_seq, x_static, team_ids, rakip_ids, labels in test_loader:\n",
        "        x_seq, x_static = x_seq.to(device), x_static.to(device)\n",
        "        team_ids, rakip_ids = team_ids.to(device), rakip_ids.to(device)\n",
        "\n",
        "        outputs = model(x_seq, x_static, team_ids, rakip_ids)\n",
        "        probs = torch.softmax(outputs, dim=1)\n",
        "\n",
        "        y_true.append(labels.cpu())\n",
        "        y_prob.append(probs.cpu())\n",
        "\n",
        "y_true = torch.cat(y_true).numpy()\n",
        "y_prob = torch.cat(y_prob).numpy()\n",
        "\n",
        "plot_multiclass_roc(y_true, y_prob, class_names=[\"Mağlubiyet\", \"Beraberlik\", \"Galibiyet\"])"
      ],
      "metadata": {
        "colab": {
          "base_uri": "https://localhost:8080/",
          "height": 607
        },
        "id": "Q7JVTpfGpEv8",
        "outputId": "5a960b3a-a9a8-4d46-ee54-06ba14d9da84"
      },
      "execution_count": null,
      "outputs": [
        {
          "output_type": "display_data",
          "data": {
            "text/plain": [
              "<Figure size 1000x600 with 1 Axes>"
            ],
            "image/png": "[encoded data removed]"
          },
          "metadata": {}
        }
      ]
    },
    {
      "cell_type": "code",
      "source": [],
      "metadata": {
        "id": "LJBDt9u33NOl"
      },
      "execution_count": null,
      "outputs": []
    }
  ],
  "metadata": {
    "accelerator": "GPU",
    "colab": {
      "gpuType": "T4",
      "provenance": [],
      "authorship_tag": "ABX9TyM9Y6Peoc07uZPGA10IREpJ",
      "include_colab_link": true
    },
    "kernelspec": {
      "display_name": "Python 3",
      "name": "python3"
    },
    "language_info": {
      "name": "python"
    }
  },
  "nbformat": 4,
  "nbformat_minor": 0
}