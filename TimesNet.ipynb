{
  "nbformat": 4,
  "nbformat_minor": 0,
  "metadata": {
    "colab": {
      "provenance": [],
      "gpuType": "T4",
      "authorship_tag": "ABX9TyMfxQgJFfybKYvxb08PbLNt",
      "include_colab_link": true
    },
    "kernelspec": {
      "name": "python3",
      "display_name": "Python 3"
    },
    "language_info": {
      "name": "python"
    },
    "accelerator": "GPU"
  },
  "cells": [
    {
      "cell_type": "markdown",
      "metadata": {
        "id": "view-in-github",
        "colab_type": "text"
      },
      "source": [
        "<a href=\"https://colab.research.google.com/github/ensarakbas77/Match-Result-Prediction/blob/main/TimesNet.ipynb\" target=\"_parent\"><img src=\"https://colab.research.google.com/assets/colab-badge.svg\" alt=\"Open In Colab\"/></a>"
      ]
    },
    {
      "cell_type": "code",
      "execution_count": null,
      "metadata": {
        "id": "JOE_lMsBUoSu"
      },
      "outputs": [],
      "source": [
        "import pandas as pd\n",
        "import matplotlib.pyplot as plt\n",
        "import seaborn as snb\n",
        "import numpy as np\n",
        "from collections import Counter\n",
        "from sklearn.preprocessing import StandardScaler\n",
        "from sklearn.preprocessing import OneHotEncoder\n",
        "from sklearn.utils.class_weight import compute_class_weight\n",
        "import torch\n",
        "import torch.nn as nn\n",
        "import torch.nn.functional as F\n",
        "from sklearn.metrics import classification_report, confusion_matrix, ConfusionMatrixDisplay, roc_curve, auc, accuracy_score\n",
        "from sklearn.preprocessing import label_binarize\n",
        "from torch.utils.data import DataLoader\n",
        "import time\n",
        "from torch.utils.data import TensorDataset, DataLoader\n",
        "from sklearn.preprocessing import LabelEncoder"
      ]
    },
    {
      "cell_type": "code",
      "source": [
        "file_path= 'Matches.xlsx'\n",
        "df=pd.read_excel(file_path)\n",
        "\n",
        "# Sadece geçerli sonuçları tut\n",
        "df = df[df['Sonuç'].isin([-1, 0, 1])]\n",
        "\n",
        "# Haritalama işlemi\n",
        "sonuc_mapping = {-1: 0, 0: 1, 1: 2}\n",
        "df['Sonuç'] = df['Sonuç'].map(sonuc_mapping)"
      ],
      "metadata": {
        "id": "UsJ2Re87z3w6"
      },
      "execution_count": null,
      "outputs": []
    },
    {
      "cell_type": "markdown",
      "source": [
        "# **SEKANS VE STATİK ÖZELLİKLER**"
      ],
      "metadata": {
        "id": "OprrQAjF0C1X"
      }
    },
    {
      "cell_type": "code",
      "source": [
        "# Takıma ve tarihe göre sırala\n",
        "df = df.sort_values(by=['Takım ID', 'Tarih'])\n",
        "\n",
        "# Boş değeri doldur\n",
        "df[\"Şut Verimliliği\"] = df[\"Şut Verimliliği\"].fillna(df[\"Şut Verimliliği\"].mean())\n",
        "\n",
        "# Feature listeleri\n",
        "sequence_features = [\n",
        "    'Gol', 'Rakip Gol', 'Topla Oynama(%)', 'Şut', 'İsabetli Şut', 'Başarılı Pas',\n",
        "    'Pas Başarısı(%)', 'Korner', 'Orta', 'Faul', 'Ofsayt',\n",
        "    'Rakip Topla Oynama(%)', 'Rakip Şut', 'Rakip İsabetli Şut', 'Rakip Başarılı Pas',\n",
        "    'Rakip Pas Başarısı(%)', 'Rakip Korner', 'Rakip Orta', 'Rakip Faul', 'Rakip Ofsayt'\n",
        "]\n",
        "\n",
        "static_features = [\n",
        "    'Takım ID', 'Rakip Takım ID', 'Is_Home', 'Sezon', 'Ay', 'Haftanın Günü',\n",
        "    'Şut Verimliliği', 'Son 5 Maç Gol Ort', 'Son 5 Maç Galibiyet Oranı'\n",
        "]\n",
        "\n",
        "\n",
        "feature_means = df[sequence_features].mean().values\n",
        "\n",
        "def pad_sequence(seq, K, mean_vec):\n",
        "    if len(seq) < K:\n",
        "        padding = np.tile(mean_vec, (K - len(seq), 1))\n",
        "        return np.vstack([padding, seq])\n",
        "    return seq\n",
        "\n",
        "\n",
        "K = 10\n",
        "X_seq = []\n",
        "X_static = []\n",
        "y = []\n",
        "\n",
        "for idx, row in df.iterrows():\n",
        "    takim_id = row['Takım ID']\n",
        "    rakip_id = row['Rakip Takım ID']\n",
        "    tarih = row['Tarih']\n",
        "\n",
        "    takim_gecmis = df[(df['Takım ID'] == takim_id) & (df['Tarih'] < tarih)].sort_values(by='Tarih').tail(K)\n",
        "\n",
        "    rakip_gecmis = df[(df['Takım ID'] == rakip_id) & (df['Tarih'] < tarih)].sort_values(by='Tarih').tail(K)\n",
        "\n",
        "    #if len(takim_gecmis) < 1 or len(rakip_gecmis) < 1:\n",
        "        #continue\n",
        "\n",
        "    takim_seq = pad_sequence(takim_gecmis[sequence_features].values, K, feature_means)\n",
        "    rakip_seq = pad_sequence(rakip_gecmis[sequence_features].values, K, feature_means)\n",
        "\n",
        "    full_seq = np.vstack([takim_seq, rakip_seq])\n",
        "\n",
        "    static_vec = row[static_features].values.astype(np.float32)\n",
        "    label = row['Sonuç']\n",
        "\n",
        "    X_seq.append(full_seq)\n",
        "    X_static.append(static_vec)\n",
        "    y.append(label)\n"
      ],
      "metadata": {
        "id": "LE6KRUQnz3zh"
      },
      "execution_count": null,
      "outputs": []
    },
    {
      "cell_type": "code",
      "source": [
        "X_seq = np.array(X_seq, dtype=np.float32)\n",
        "X_static = np.array(X_static, dtype=np.float32)\n",
        "y = np.array(y, dtype=np.int64)\n",
        "\n",
        "print(\"X_seq shape     :\", X_seq.shape)\n",
        "print(\"X_static shape  :\", X_static.shape)\n",
        "print(\"y shape         :\", y.shape)\n",
        "print(\"Sınıf dağılımı  :\", Counter(y))"
      ],
      "metadata": {
        "colab": {
          "base_uri": "https://localhost:8080/"
        },
        "id": "oGFoF0-az32S",
        "outputId": "d86bd68a-be37-409e-a724-b9b4985b338d"
      },
      "execution_count": null,
      "outputs": [
        {
          "output_type": "stream",
          "name": "stdout",
          "text": [
            "X_seq shape     : (3734, 20, 20)\n",
            "X_static shape  : (3734, 9)\n",
            "y shape         : (3734,)\n",
            "Sınıf dağılımı  : Counter({np.int64(2): 2241, np.int64(0): 788, np.int64(1): 705})\n"
          ]
        }
      ]
    },
    {
      "cell_type": "markdown",
      "source": [
        "# **Küme Ayrımı**"
      ],
      "metadata": {
        "id": "n6RUar6y0Ke1"
      }
    },
    {
      "cell_type": "code",
      "source": [
        "val_ratio = 0.15\n",
        "test_ratio = 0.15\n",
        "\n",
        "total_samples = len(X_seq)\n",
        "test_size = int(total_samples * test_ratio)\n",
        "val_size = int(total_samples * val_ratio)\n",
        "train_size = total_samples - val_size - test_size\n",
        "\n",
        "X_seq_train = X_seq[:train_size]\n",
        "X_static_train = X_static[:train_size]\n",
        "y_train = y[:train_size]\n",
        "\n",
        "X_seq_val = X_seq[train_size:train_size + val_size]\n",
        "X_static_val = X_static[train_size:train_size + val_size]\n",
        "y_val = y[train_size:train_size + val_size]\n",
        "\n",
        "X_seq_test = X_seq[-test_size:]\n",
        "X_static_test = X_static[-test_size:]\n",
        "y_test = y[-test_size:]\n",
        "\n",
        "\n",
        "print(\"Train:\", len(y_train), \"Val:\", len(y_val), \"Test:\", len(y_test))\n",
        "print(\"Train Sınıf Dağılımı:\", Counter(y_train))\n",
        "print(\"Val   Sınıf Dağılımı:\", Counter(y_val))\n",
        "print(\"Test  Sınıf Dağılımı:\", Counter(y_test))"
      ],
      "metadata": {
        "colab": {
          "base_uri": "https://localhost:8080/"
        },
        "id": "4nqTkj_4z34q",
        "outputId": "d431f63f-27a9-4f3f-9f27-afd49605416a"
      },
      "execution_count": null,
      "outputs": [
        {
          "output_type": "stream",
          "name": "stdout",
          "text": [
            "Train: 2614 Val: 560 Test: 560\n",
            "Train Sınıf Dağılımı: Counter({np.int64(2): 1604, np.int64(0): 512, np.int64(1): 498})\n",
            "Val   Sınıf Dağılımı: Counter({np.int64(2): 338, np.int64(0): 121, np.int64(1): 101})\n",
            "Test  Sınıf Dağılımı: Counter({np.int64(2): 299, np.int64(0): 155, np.int64(1): 106})\n"
          ]
        }
      ]
    },
    {
      "cell_type": "markdown",
      "source": [
        "# **Encoding + Ölçekleme**"
      ],
      "metadata": {
        "id": "VZRUAFdj0SRX"
      }
    },
    {
      "cell_type": "code",
      "source": [
        "# 1. Tüm setleri DataFrame'e çevir\n",
        "df_static_train = pd.DataFrame(X_static_train, columns=static_features)\n",
        "df_static_val   = pd.DataFrame(X_static_val,   columns=static_features)\n",
        "df_static_test  = pd.DataFrame(X_static_test,  columns=static_features)\n",
        "\n",
        "# 2. Takım ve Rakip ID'leri ayır\n",
        "takim_ids_train = df_static_train[\"Takım ID\"].values.astype(np.int64)\n",
        "rakip_ids_train = df_static_train[\"Rakip Takım ID\"].values.astype(np.int64)\n",
        "\n",
        "takim_ids_val = df_static_val[\"Takım ID\"].values.astype(np.int64)\n",
        "rakip_ids_val = df_static_val[\"Rakip Takım ID\"].values.astype(np.int64)\n",
        "\n",
        "takim_ids_test = df_static_test[\"Takım ID\"].values.astype(np.int64)\n",
        "rakip_ids_test = df_static_test[\"Rakip Takım ID\"].values.astype(np.int64)\n",
        "\n",
        "# 3. Encoding yapılacak sütunlar\n",
        "categorical_ohe_cols = ['Sezon', 'Ay', 'Haftanın Günü']\n",
        "numerical_cols = ['Is_Home', 'Şut Verimliliği', 'Son 5 Maç Gol Ort', 'Son 5 Maç Galibiyet Oranı']\n",
        "\n",
        "# 4. One-Hot Encoder (sadece train'e fit et)\n",
        "ohe = OneHotEncoder(sparse_output=False, handle_unknown='ignore')\n",
        "ohe.fit(df_static_train[categorical_ohe_cols])\n",
        "\n",
        "# 5. Encode edilmiş kategorik özellikler\n",
        "ohe_train = ohe.transform(df_static_train[categorical_ohe_cols])\n",
        "ohe_val   = ohe.transform(df_static_val[categorical_ohe_cols])\n",
        "ohe_test  = ohe.transform(df_static_test[categorical_ohe_cols])\n",
        "\n",
        "# 6. Numerik özellikler için StandardScaler (sadece train'e fit et)\n",
        "scaler = StandardScaler()\n",
        "scaler.fit(df_static_train[numerical_cols])\n",
        "\n",
        "scaled_train = scaler.transform(df_static_train[numerical_cols])\n",
        "scaled_val   = scaler.transform(df_static_val[numerical_cols])\n",
        "scaled_test  = scaler.transform(df_static_test[numerical_cols])\n",
        "\n",
        "# 7. Final encode edilmiş X_static verileri\n",
        "X_static_train_encoded = np.hstack([ohe_train, scaled_train]).astype(np.float32)\n",
        "X_static_val_encoded   = np.hstack([ohe_val, scaled_val]).astype(np.float32)\n",
        "X_static_test_encoded  = np.hstack([ohe_test, scaled_test]).astype(np.float32)\n",
        "\n",
        "\n",
        "# === SEKANS ÖZELLİKLERİ ===\n",
        "# X_seq: (N, T=20, F=20)\n",
        "N_train = X_seq_train.shape[0]\n",
        "N_val   = X_seq_val.shape[0]\n",
        "N_test  = X_seq_test.shape[0]\n",
        "seq_len = X_seq_train.shape[1]\n",
        "F       = X_seq_train.shape[2]\n",
        "\n",
        "scaler_seq = StandardScaler()\n",
        "\n",
        "# --- Train: fit + transform ---\n",
        "X_seq_train_flat = X_seq_train.reshape(-1, F)  # (N*T, F)\n",
        "X_seq_train_scaled_flat = scaler_seq.fit_transform(X_seq_train_flat)\n",
        "X_seq_train_scaled = X_seq_train_scaled_flat.reshape(N_train, seq_len, F)\n",
        "\n",
        "# --- Val: transform only ---\n",
        "X_seq_val_flat = X_seq_val.reshape(-1, F)\n",
        "X_seq_val_scaled_flat = scaler_seq.transform(X_seq_val_flat)\n",
        "X_seq_val_scaled = X_seq_val_scaled_flat.reshape(N_val, seq_len, F)\n",
        "\n",
        "# --- Test: transform only ---\n",
        "X_seq_test_flat = X_seq_test.reshape(-1, F)\n",
        "X_seq_test_scaled_flat = scaler_seq.transform(X_seq_test_flat)\n",
        "X_seq_test_scaled = X_seq_test_scaled_flat.reshape(N_test, seq_len, F)\n",
        "\n",
        "\n",
        "X_static_train = X_static_train_encoded\n",
        "X_static_val   = X_static_val_encoded\n",
        "X_static_test  = X_static_test_encoded\n",
        "\n",
        "X_seq_train = X_seq_train_scaled\n",
        "X_seq_val   = X_seq_val_scaled\n",
        "X_seq_test  = X_seq_test_scaled\n",
        "\n",
        "# 8. Kontrol\n",
        "print(\"X_static_train:\", X_static_train.shape)\n",
        "print(\"X_static_val  :\", X_static_val.shape)\n",
        "print(\"X_static_test :\", X_static_test.shape)\n",
        "print()\n",
        "print(\"takim_ids_train:\", takim_ids_train.shape)\n",
        "print(\"takim_ids_test\", takim_ids_test.shape)\n",
        "print(\"takim_ids_val\", takim_ids_val.shape)\n",
        "print()\n",
        "print(\"rakip_ids_train:\", rakip_ids_train.shape)\n",
        "print(\"rakip_ids_test\", rakip_ids_test.shape)\n",
        "print(\"rakip_ids_val\", rakip_ids_val.shape)\n",
        "print()\n",
        "print(\"X_seq_train:\", X_seq_train.shape)\n",
        "print(\"X_seq_val  :\", X_seq_val.shape)\n",
        "print(\"X_seq_test :\", X_seq_test.shape)\n"
      ],
      "metadata": {
        "colab": {
          "base_uri": "https://localhost:8080/"
        },
        "id": "Azr2nn14z37K",
        "outputId": "9eccac46-3af9-4618-83d1-915c95a9297a"
      },
      "execution_count": null,
      "outputs": [
        {
          "output_type": "stream",
          "name": "stdout",
          "text": [
            "X_static_train: (2614, 36)\n",
            "X_static_val  : (560, 36)\n",
            "X_static_test : (560, 36)\n",
            "\n",
            "takim_ids_train: (2614,)\n",
            "takim_ids_test (560,)\n",
            "takim_ids_val (560,)\n",
            "\n",
            "rakip_ids_train: (2614,)\n",
            "rakip_ids_test (560,)\n",
            "rakip_ids_val (560,)\n",
            "\n",
            "X_seq_train: (2614, 20, 20)\n",
            "X_seq_val  : (560, 20, 20)\n",
            "X_seq_test : (560, 20, 20)\n"
          ]
        }
      ]
    },
    {
      "cell_type": "code",
      "source": [
        "le = LabelEncoder()\n",
        "\n",
        "# Tüm ID'leri birleştir\n",
        "all_ids = np.concatenate([takim_ids_train, takim_ids_val, takim_ids_test,\n",
        "                          rakip_ids_train, rakip_ids_val, rakip_ids_test])\n",
        "\n",
        "# Fit işlemi tüm ID'lere yapılmalı\n",
        "le.fit(all_ids)\n",
        "\n",
        "# Encode işlemi (dönüştürme)\n",
        "takim_ids_train_enc = le.transform(takim_ids_train)\n",
        "rakip_ids_train_enc = le.transform(rakip_ids_train)\n",
        "\n",
        "takim_ids_val_enc = le.transform(takim_ids_val)\n",
        "rakip_ids_val_enc = le.transform(rakip_ids_val)\n",
        "\n",
        "takim_ids_test_enc = le.transform(takim_ids_test)\n",
        "rakip_ids_test_enc = le.transform(rakip_ids_test)\n",
        "\n",
        "# Yeni vocab size\n",
        "team_vocab_size = len(le.classes_)\n"
      ],
      "metadata": {
        "id": "8WHVn8dk0cO4"
      },
      "execution_count": null,
      "outputs": []
    },
    {
      "cell_type": "markdown",
      "source": [
        "# **MODEL**"
      ],
      "metadata": {
        "id": "9z9aZ31G0b4e"
      }
    },
    {
      "cell_type": "code",
      "source": [
        "device = torch.device(\"cuda\" if torch.cuda.is_available() else \"cpu\")\n",
        "\n",
        "# Tensöre çevirme\n",
        "def to_tensor(x, dtype=torch.float32):\n",
        "    return torch.tensor(x, dtype=dtype)\n",
        "\n",
        "# Eğitim Tensor\n",
        "x_seq_train_tensor     = to_tensor(X_seq_train)\n",
        "x_static_train_tensor  = to_tensor(X_static_train)\n",
        "takim_ids_train_tensor = torch.tensor(takim_ids_train_enc, dtype=torch.long)\n",
        "rakip_ids_train_tensor = torch.tensor(rakip_ids_train_enc, dtype=torch.long)\n",
        "y_train_tensor         = torch.tensor(y_train, dtype=torch.long)\n",
        "\n",
        "# Validation\n",
        "x_seq_val_tensor     = to_tensor(X_seq_val)\n",
        "x_static_val_tensor  = to_tensor(X_static_val)\n",
        "takim_ids_val_tensor = torch.tensor(takim_ids_val_enc, dtype=torch.long)\n",
        "rakip_ids_val_tensor = torch.tensor(rakip_ids_val_enc, dtype=torch.long)\n",
        "y_val_tensor         = torch.tensor(y_val, dtype=torch.long)\n",
        "\n",
        "# Test\n",
        "x_seq_test_tensor     = to_tensor(X_seq_test)\n",
        "x_static_test_tensor  = to_tensor(X_static_test)\n",
        "takim_ids_test_tensor = torch.tensor(takim_ids_test_enc, dtype=torch.long)\n",
        "rakip_ids_test_tensor = torch.tensor(rakip_ids_test_enc, dtype=torch.long)\n",
        "y_test_tensor         = torch.tensor(y_test, dtype=torch.long)\n",
        "\n",
        "\n",
        "\n",
        "# Eğitim veri seti\n",
        "train_dataset = TensorDataset(\n",
        "    x_seq_train_tensor,\n",
        "    x_static_train_tensor,\n",
        "    takim_ids_train_tensor,\n",
        "    rakip_ids_train_tensor,\n",
        "    y_train_tensor\n",
        ")\n",
        "\n",
        "# Validation veri seti\n",
        "val_dataset = TensorDataset(\n",
        "    x_seq_val_tensor,\n",
        "    x_static_val_tensor,\n",
        "    takim_ids_val_tensor,\n",
        "    rakip_ids_val_tensor,\n",
        "    y_val_tensor\n",
        ")\n",
        "\n",
        "# Test veri seti\n",
        "test_dataset = TensorDataset(\n",
        "    x_seq_test_tensor,\n",
        "    x_static_test_tensor,\n",
        "    takim_ids_test_tensor,\n",
        "    rakip_ids_test_tensor,\n",
        "    y_test_tensor\n",
        ")"
      ],
      "metadata": {
        "id": "Kt21f2siz39z"
      },
      "execution_count": null,
      "outputs": []
    },
    {
      "cell_type": "code",
      "source": [
        "import torch.nn.functional as F\n",
        "\n",
        "class TimesNet(nn.Module):\n",
        "    def __init__(self,\n",
        "                 input_dim,\n",
        "                 seq_len,\n",
        "                 static_dim,\n",
        "                 team_vocab_size,\n",
        "                 embedding_dim=8,\n",
        "                 num_classes=3,\n",
        "                 num_blocks=3,\n",
        "                 hidden_dim=64):\n",
        "\n",
        "        super(TimesNet, self).__init__()\n",
        "\n",
        "        self.blocks = nn.ModuleList([\n",
        "            TimesBlock(input_dim, hidden_dim) for _ in range(num_blocks)\n",
        "        ])\n",
        "\n",
        "        self.global_pool = nn.AdaptiveAvgPool1d(1)\n",
        "\n",
        "        self.static_proj = nn.Sequential(\n",
        "            nn.Linear(static_dim, 32),\n",
        "            nn.ReLU(),\n",
        "            nn.Dropout(0.6),\n",
        "            nn.Linear(32, 16)\n",
        "        )\n",
        "\n",
        "\n",
        "        self.team_emb = nn.Embedding(team_vocab_size, embedding_dim)\n",
        "        self.rival_emb = nn.Embedding(team_vocab_size, embedding_dim)\n",
        "\n",
        "        total_feat_dim = input_dim + 16 + 2 * embedding_dim\n",
        "        self.fc = nn.Linear(total_feat_dim, num_classes)\n",
        "\n",
        "    def forward(self, x_seq, x_static, team_ids, rival_ids):\n",
        "\n",
        "        for block in self.blocks:\n",
        "            x_seq = block(x_seq)\n",
        "\n",
        "        x_seq = x_seq.permute(0, 2, 1)\n",
        "        x_seq = self.global_pool(x_seq).squeeze(-1)\n",
        "\n",
        "        x_static_out = self.static_proj(x_static)\n",
        "\n",
        "        team_vec = self.team_emb(team_ids)\n",
        "        rival_vec = self.rival_emb(rival_ids)\n",
        "\n",
        "        full_feat = torch.cat([x_seq, x_static_out, team_vec, rival_vec], dim=1)\n",
        "\n",
        "        out = self.fc(full_feat)\n",
        "        return out\n",
        "\n",
        "class TimesBlock(nn.Module):\n",
        "    def __init__(self, input_dim, hidden_dim, kernel_size=3, dropout=0.6):\n",
        "        super(TimesBlock, self).__init__()\n",
        "        self.conv1 = nn.Conv1d(input_dim, hidden_dim, kernel_size=kernel_size, padding=kernel_size//2)\n",
        "        self.bn1 = nn.BatchNorm1d(hidden_dim)\n",
        "        self.relu = nn.ReLU()\n",
        "        self.dropout = nn.Dropout(dropout)\n",
        "        self.conv2 = nn.Conv1d(hidden_dim, input_dim, kernel_size=1)\n",
        "\n",
        "    def forward(self, x):\n",
        "        x = x.permute(0, 2, 1)\n",
        "        out = self.conv1(x)\n",
        "        out = self.bn1(out)\n",
        "        out = self.relu(out)\n",
        "        out = self.dropout(out)\n",
        "        out = self.conv2(out)\n",
        "        out = out.permute(0, 2, 1)\n",
        "        return out + x.permute(0, 2, 1)\n"
      ],
      "metadata": {
        "id": "V2FAfJkHz4Ar"
      },
      "execution_count": null,
      "outputs": []
    },
    {
      "cell_type": "code",
      "source": [
        "input_dim = 20\n",
        "seq_len = 20\n",
        "static_dim = X_static_train.shape[1]\n",
        "team_vocab_size = len(le.classes_)\n",
        "embedding_dim = 8\n",
        "\n",
        "model = TimesNet(input_dim=input_dim,\n",
        "                 seq_len=seq_len,\n",
        "                 static_dim=static_dim,\n",
        "                 team_vocab_size=team_vocab_size,\n",
        "                 embedding_dim=embedding_dim,\n",
        "                 num_classes=3)\n",
        "\n",
        "model.to(device)\n"
      ],
      "metadata": {
        "colab": {
          "base_uri": "https://localhost:8080/"
        },
        "id": "YaAOJv0xDl8e",
        "outputId": "a8095f7f-154c-4174-9568-457524bfbd40"
      },
      "execution_count": null,
      "outputs": [
        {
          "output_type": "execute_result",
          "data": {
            "text/plain": [
              "TimesNet(\n",
              "  (blocks): ModuleList(\n",
              "    (0-2): 3 x TimesBlock(\n",
              "      (conv1): Conv1d(20, 64, kernel_size=(3,), stride=(1,), padding=(1,))\n",
              "      (bn1): BatchNorm1d(64, eps=1e-05, momentum=0.1, affine=True, track_running_stats=True)\n",
              "      (relu): ReLU()\n",
              "      (dropout): Dropout(p=0.6, inplace=False)\n",
              "      (conv2): Conv1d(64, 20, kernel_size=(1,), stride=(1,))\n",
              "    )\n",
              "  )\n",
              "  (global_pool): AdaptiveAvgPool1d(output_size=1)\n",
              "  (static_proj): Sequential(\n",
              "    (0): Linear(in_features=36, out_features=32, bias=True)\n",
              "    (1): ReLU()\n",
              "    (2): Dropout(p=0.6, inplace=False)\n",
              "    (3): Linear(in_features=32, out_features=16, bias=True)\n",
              "  )\n",
              "  (team_emb): Embedding(294, 8)\n",
              "  (rival_emb): Embedding(294, 8)\n",
              "  (fc): Linear(in_features=52, out_features=3, bias=True)\n",
              ")"
            ]
          },
          "metadata": {},
          "execution_count": 10
        }
      ]
    },
    {
      "cell_type": "code",
      "source": [
        "import torch.nn.functional as F\n",
        "\n",
        "class FocalLoss(nn.Module):\n",
        "    def __init__(self, alpha=None, gamma=0.5):\n",
        "        super(FocalLoss, self).__init__()\n",
        "        self.alpha = alpha\n",
        "        self.gamma = gamma\n",
        "\n",
        "    def forward(self, inputs, targets):\n",
        "        ce_loss = F.cross_entropy(inputs, targets, weight=self.alpha, reduction='none')\n",
        "        pt = torch.exp(-ce_loss)\n",
        "        focal_loss = ((1 - pt) ** self.gamma) * ce_loss\n",
        "        return focal_loss.mean()\n",
        "\n",
        "class_weights = compute_class_weight('balanced', classes=np.unique(y_train), y=y_train)\n",
        "class_weights_tensor = torch.tensor(class_weights, dtype=torch.float32).to(device)\n",
        "\n",
        "# Focal Loss tanımı\n",
        "criterion = FocalLoss(alpha=class_weights_tensor, gamma=0.5)\n",
        "\n",
        "# Optimizer\n",
        "optimizer = torch.optim.Adam(model.parameters(), lr=0.0001, weight_decay=5e-4)\n",
        "scheduler = torch.optim.lr_scheduler.ReduceLROnPlateau(\n",
        "    optimizer, mode='min', factor=0.5, patience=10, verbose=True\n",
        ")\n"
      ],
      "metadata": {
        "colab": {
          "base_uri": "https://localhost:8080/"
        },
        "id": "dlu7uZoODWoN",
        "outputId": "9878f052-77ee-44ac-badc-0ded9ae20a4a"
      },
      "execution_count": null,
      "outputs": [
        {
          "output_type": "stream",
          "name": "stderr",
          "text": [
            "/usr/local/lib/python3.11/dist-packages/torch/optim/lr_scheduler.py:62: UserWarning: The verbose parameter is deprecated. Please use get_last_lr() to access the learning rate.\n",
            "  warnings.warn(\n"
          ]
        }
      ]
    },
    {
      "cell_type": "code",
      "source": [
        "batch_size = 32\n",
        "\n",
        "train_loader = DataLoader(train_dataset, batch_size=batch_size, shuffle=True)\n",
        "val_loader   = DataLoader(val_dataset, batch_size=batch_size)\n",
        "test_loader  = DataLoader(test_dataset, batch_size=batch_size)\n",
        "\n",
        "\n",
        "def train_one_epoch(model, dataloader, criterion, optimizer, device):\n",
        "    model.train()\n",
        "    total_loss = 0\n",
        "    correct = 0\n",
        "    total = 0\n",
        "\n",
        "    for x_seq, x_static, team_ids, rival_ids, y in dataloader:\n",
        "        x_seq = x_seq.to(device)\n",
        "        x_static = x_static.to(device)\n",
        "        team_ids = team_ids.to(device)\n",
        "        rival_ids = rival_ids.to(device)\n",
        "        y = y.to(device)\n",
        "\n",
        "        optimizer.zero_grad()\n",
        "        outputs = model(x_seq, x_static, team_ids, rival_ids)\n",
        "        loss = criterion(outputs, y)\n",
        "        loss.backward()\n",
        "        optimizer.step()\n",
        "\n",
        "        total_loss += loss.item() * y.size(0)\n",
        "        preds = outputs.argmax(dim=1)\n",
        "        correct += (preds == y).sum().item()\n",
        "        total += y.size(0)\n",
        "\n",
        "    avg_loss = total_loss / total\n",
        "    accuracy = correct / total\n",
        "    return avg_loss, accuracy\n",
        "\n",
        "\n",
        "def evaluate(model, dataloader, criterion, device):\n",
        "    model.eval()\n",
        "    total_loss = 0\n",
        "    correct = 0\n",
        "    total = 0\n",
        "\n",
        "    with torch.no_grad():\n",
        "        for x_seq, x_static, team_ids, rival_ids, y in dataloader:\n",
        "            x_seq = x_seq.to(device)\n",
        "            x_static = x_static.to(device)\n",
        "            team_ids = team_ids.to(device)\n",
        "            rival_ids = rival_ids.to(device)\n",
        "            y = y.to(device)\n",
        "\n",
        "            outputs = model(x_seq, x_static, team_ids, rival_ids)\n",
        "            loss = criterion(outputs, y)\n",
        "\n",
        "            total_loss += loss.item() * y.size(0)\n",
        "            preds = outputs.argmax(dim=1)\n",
        "            correct += (preds == y).sum().item()\n",
        "            total += y.size(0)\n",
        "\n",
        "    avg_loss = total_loss / total\n",
        "    accuracy = correct / total\n",
        "    return avg_loss, accuracy\n"
      ],
      "metadata": {
        "id": "4rC7uHFA-5CA"
      },
      "execution_count": null,
      "outputs": []
    },
    {
      "cell_type": "code",
      "source": [
        "num_epochs = 60\n",
        "best_val_acc = 0\n",
        "patience = 10\n",
        "early_stop_counter = 0\n",
        "\n",
        "train_losses = []\n",
        "val_losses = []\n",
        "train_accuracies = []\n",
        "val_accuracies = []\n",
        "\n",
        "# Eğitim süresi ölçümü\n",
        "total_train_start = time.time()\n",
        "\n",
        "for epoch in range(num_epochs):\n",
        "    train_loss, train_acc = train_one_epoch(model, train_loader, criterion, optimizer, device)\n",
        "    val_loss, val_acc = evaluate(model, val_loader, criterion, device)\n",
        "\n",
        "    scheduler.step(val_loss)\n",
        "\n",
        "    train_losses.append(train_loss)\n",
        "    val_losses.append(val_loss)\n",
        "    train_accuracies.append(train_acc)\n",
        "    val_accuracies.append(val_acc)\n",
        "\n",
        "    print(f\"[Epoch {epoch+1}] Train Loss: {train_loss:.4f} | Acc: {train_acc:.4f} || Val Loss: {val_loss:.4f} | Acc: {val_acc:.4f}\")\n",
        "\n",
        "    if val_acc > best_val_acc:\n",
        "        best_val_acc = val_acc\n",
        "        early_stop_counter = 0\n",
        "        torch.save(model.state_dict(), \"best_timesnet_model.pth\")\n",
        "        # print(\"→ Yeni en iyi model kaydedildi.\")\n",
        "    else:\n",
        "        early_stop_counter += 1\n",
        "        # print(f\"→ Gelişme yok. Sabır: {early_stop_counter}/{patience}\")\n",
        "\n",
        "        if early_stop_counter >= patience:\n",
        "            print(\"⏹️ Early stopping tetiklendi!\")\n",
        "            break\n",
        "\n",
        "\n",
        "total_train_time = time.time() - total_train_start\n",
        "print(f\"\\nToplam eğitim süresi: {total_train_time:.2f} saniye\")"
      ],
      "metadata": {
        "colab": {
          "base_uri": "https://localhost:8080/"
        },
        "id": "-zxSi6dF-8PS",
        "outputId": "fbdf24d3-7958-4bf6-bc4b-35ca71096218"
      },
      "execution_count": null,
      "outputs": [
        {
          "output_type": "stream",
          "name": "stdout",
          "text": [
            "[Epoch 1] Train Loss: 0.9361 | Acc: 0.2777 || Val Loss: 0.9364 | Acc: 0.2929\n",
            "[Epoch 2] Train Loss: 0.9248 | Acc: 0.2724 || Val Loss: 0.9336 | Acc: 0.2929\n",
            "[Epoch 3] Train Loss: 0.9215 | Acc: 0.2510 || Val Loss: 0.9319 | Acc: 0.3036\n",
            "[Epoch 4] Train Loss: 0.9130 | Acc: 0.2995 || Val Loss: 0.9276 | Acc: 0.2911\n",
            "[Epoch 5] Train Loss: 0.9077 | Acc: 0.3015 || Val Loss: 0.9233 | Acc: 0.3071\n",
            "[Epoch 6] Train Loss: 0.9029 | Acc: 0.3175 || Val Loss: 0.9191 | Acc: 0.3339\n",
            "[Epoch 7] Train Loss: 0.8982 | Acc: 0.3386 || Val Loss: 0.9133 | Acc: 0.3500\n",
            "[Epoch 8] Train Loss: 0.8969 | Acc: 0.3428 || Val Loss: 0.9083 | Acc: 0.3625\n",
            "[Epoch 9] Train Loss: 0.8908 | Acc: 0.3527 || Val Loss: 0.9023 | Acc: 0.3893\n",
            "[Epoch 10] Train Loss: 0.8832 | Acc: 0.3657 || Val Loss: 0.8963 | Acc: 0.3982\n",
            "[Epoch 11] Train Loss: 0.8774 | Acc: 0.3940 || Val Loss: 0.8888 | Acc: 0.4054\n",
            "[Epoch 12] Train Loss: 0.8707 | Acc: 0.3990 || Val Loss: 0.8803 | Acc: 0.4161\n",
            "[Epoch 13] Train Loss: 0.8731 | Acc: 0.3986 || Val Loss: 0.8737 | Acc: 0.4321\n",
            "[Epoch 14] Train Loss: 0.8625 | Acc: 0.4139 || Val Loss: 0.8671 | Acc: 0.4768\n",
            "[Epoch 15] Train Loss: 0.8587 | Acc: 0.4304 || Val Loss: 0.8603 | Acc: 0.4911\n",
            "[Epoch 16] Train Loss: 0.8542 | Acc: 0.4353 || Val Loss: 0.8543 | Acc: 0.4946\n",
            "[Epoch 17] Train Loss: 0.8478 | Acc: 0.4514 || Val Loss: 0.8475 | Acc: 0.5125\n",
            "[Epoch 18] Train Loss: 0.8472 | Acc: 0.4648 || Val Loss: 0.8423 | Acc: 0.5143\n",
            "[Epoch 19] Train Loss: 0.8376 | Acc: 0.4728 || Val Loss: 0.8383 | Acc: 0.5250\n",
            "[Epoch 20] Train Loss: 0.8365 | Acc: 0.4717 || Val Loss: 0.8328 | Acc: 0.5411\n",
            "[Epoch 21] Train Loss: 0.8293 | Acc: 0.4958 || Val Loss: 0.8291 | Acc: 0.5482\n",
            "[Epoch 22] Train Loss: 0.8299 | Acc: 0.4969 || Val Loss: 0.8249 | Acc: 0.5429\n",
            "[Epoch 23] Train Loss: 0.8284 | Acc: 0.4935 || Val Loss: 0.8220 | Acc: 0.5518\n",
            "[Epoch 24] Train Loss: 0.8253 | Acc: 0.4989 || Val Loss: 0.8191 | Acc: 0.5536\n",
            "[Epoch 25] Train Loss: 0.8219 | Acc: 0.5084 || Val Loss: 0.8176 | Acc: 0.5589\n",
            "[Epoch 26] Train Loss: 0.8236 | Acc: 0.4862 || Val Loss: 0.8154 | Acc: 0.5643\n",
            "[Epoch 27] Train Loss: 0.8246 | Acc: 0.5042 || Val Loss: 0.8130 | Acc: 0.5679\n",
            "[Epoch 28] Train Loss: 0.8169 | Acc: 0.5011 || Val Loss: 0.8113 | Acc: 0.5589\n",
            "[Epoch 29] Train Loss: 0.8183 | Acc: 0.5019 || Val Loss: 0.8113 | Acc: 0.5571\n",
            "[Epoch 30] Train Loss: 0.8140 | Acc: 0.5080 || Val Loss: 0.8088 | Acc: 0.5679\n",
            "[Epoch 31] Train Loss: 0.8124 | Acc: 0.5157 || Val Loss: 0.8077 | Acc: 0.5661\n",
            "[Epoch 32] Train Loss: 0.8095 | Acc: 0.5199 || Val Loss: 0.8069 | Acc: 0.5714\n",
            "[Epoch 33] Train Loss: 0.8071 | Acc: 0.5111 || Val Loss: 0.8059 | Acc: 0.5750\n",
            "[Epoch 34] Train Loss: 0.8077 | Acc: 0.5210 || Val Loss: 0.8042 | Acc: 0.5714\n",
            "[Epoch 35] Train Loss: 0.8069 | Acc: 0.5187 || Val Loss: 0.8038 | Acc: 0.5786\n",
            "[Epoch 36] Train Loss: 0.8115 | Acc: 0.5409 || Val Loss: 0.8029 | Acc: 0.5750\n",
            "[Epoch 37] Train Loss: 0.8034 | Acc: 0.5149 || Val Loss: 0.8015 | Acc: 0.5857\n",
            "[Epoch 38] Train Loss: 0.8080 | Acc: 0.5287 || Val Loss: 0.8012 | Acc: 0.5893\n",
            "[Epoch 39] Train Loss: 0.8086 | Acc: 0.5226 || Val Loss: 0.8017 | Acc: 0.5839\n",
            "[Epoch 40] Train Loss: 0.8017 | Acc: 0.5264 || Val Loss: 0.8017 | Acc: 0.5911\n",
            "[Epoch 41] Train Loss: 0.8023 | Acc: 0.5390 || Val Loss: 0.8001 | Acc: 0.5821\n",
            "[Epoch 42] Train Loss: 0.7987 | Acc: 0.5283 || Val Loss: 0.7990 | Acc: 0.5893\n",
            "[Epoch 43] Train Loss: 0.8010 | Acc: 0.5176 || Val Loss: 0.7993 | Acc: 0.5893\n",
            "[Epoch 44] Train Loss: 0.8009 | Acc: 0.5436 || Val Loss: 0.7986 | Acc: 0.5839\n",
            "[Epoch 45] Train Loss: 0.8037 | Acc: 0.5245 || Val Loss: 0.7982 | Acc: 0.5839\n",
            "[Epoch 46] Train Loss: 0.7968 | Acc: 0.5367 || Val Loss: 0.8010 | Acc: 0.5929\n",
            "[Epoch 47] Train Loss: 0.7947 | Acc: 0.5406 || Val Loss: 0.7988 | Acc: 0.5857\n",
            "[Epoch 48] Train Loss: 0.7956 | Acc: 0.5459 || Val Loss: 0.7983 | Acc: 0.5893\n",
            "[Epoch 49] Train Loss: 0.7967 | Acc: 0.5471 || Val Loss: 0.7967 | Acc: 0.5875\n",
            "[Epoch 50] Train Loss: 0.7957 | Acc: 0.5279 || Val Loss: 0.7984 | Acc: 0.5911\n",
            "[Epoch 51] Train Loss: 0.7884 | Acc: 0.5593 || Val Loss: 0.7975 | Acc: 0.5857\n",
            "[Epoch 52] Train Loss: 0.7894 | Acc: 0.5478 || Val Loss: 0.7958 | Acc: 0.5893\n",
            "[Epoch 53] Train Loss: 0.7914 | Acc: 0.5444 || Val Loss: 0.7960 | Acc: 0.5839\n",
            "[Epoch 54] Train Loss: 0.7894 | Acc: 0.5386 || Val Loss: 0.7979 | Acc: 0.5982\n",
            "[Epoch 55] Train Loss: 0.7911 | Acc: 0.5471 || Val Loss: 0.7954 | Acc: 0.5804\n",
            "[Epoch 56] Train Loss: 0.7840 | Acc: 0.5513 || Val Loss: 0.7949 | Acc: 0.5875\n",
            "[Epoch 57] Train Loss: 0.7753 | Acc: 0.5505 || Val Loss: 0.7954 | Acc: 0.5911\n",
            "[Epoch 58] Train Loss: 0.7809 | Acc: 0.5528 || Val Loss: 0.7947 | Acc: 0.5875\n",
            "[Epoch 59] Train Loss: 0.7790 | Acc: 0.5528 || Val Loss: 0.7946 | Acc: 0.5893\n",
            "[Epoch 60] Train Loss: 0.7766 | Acc: 0.5528 || Val Loss: 0.7952 | Acc: 0.5893\n",
            "\n",
            "Toplam eğitim süresi: 31.79 saniye\n"
          ]
        }
      ]
    },
    {
      "cell_type": "code",
      "source": [
        "plt.figure(figsize=(10, 5))\n",
        "\n",
        "# Kayıp (Loss) Grafiği\n",
        "plt.subplot(1, 2, 1)\n",
        "plt.plot(train_losses, label=\"Train Loss\")\n",
        "plt.plot(val_losses, label=\"Val Loss\")\n",
        "plt.xlabel(\"Epoch\")\n",
        "plt.ylabel(\"Loss\")\n",
        "plt.title(\"Train vs Val Loss\")\n",
        "plt.legend()\n",
        "plt.grid(True)\n",
        "\n",
        "plt.tight_layout()\n",
        "plt.show()"
      ],
      "metadata": {
        "colab": {
          "base_uri": "https://localhost:8080/",
          "height": 507
        },
        "id": "PzJeeLtX_Q_u",
        "outputId": "5ad40874-97e4-45a1-e733-8831e7e1e7e5"
      },
      "execution_count": null,
      "outputs": [
        {
          "output_type": "display_data",
          "data": {
            "text/plain": [
              "<Figure size 1000x500 with 1 Axes>"
            ],
            "image/png": "[encoded data removed]"
          },
          "metadata": {}
        }
      ]
    },
    {
      "cell_type": "code",
      "source": [
        "import torch.nn.functional as F\n",
        "\n",
        "# En iyi modeli yükle\n",
        "model.load_state_dict(torch.load(\"best_timesnet_model.pth\"))\n",
        "model.eval()\n",
        "\n",
        "all_preds = []\n",
        "all_targets = []\n",
        "total_loss = 0.0\n",
        "total_samples = 0\n",
        "\n",
        "start_time = time.time()\n",
        "\n",
        "# Tüm gerekli girdileri modele ver + loss ve doğruluk hesapla\n",
        "with torch.no_grad():\n",
        "    for x_seq, x_static, team_ids, rival_ids, y in test_loader:\n",
        "        x_seq = x_seq.to(device)\n",
        "        x_static = x_static.to(device)\n",
        "        team_ids = team_ids.to(device)\n",
        "        rival_ids = rival_ids.to(device)\n",
        "        y = y.to(device)\n",
        "\n",
        "        outputs = model(x_seq, x_static, team_ids, rival_ids)\n",
        "\n",
        "        loss = F.cross_entropy(outputs, y)\n",
        "        total_loss += loss.item() * y.size(0)\n",
        "        total_samples += y.size(0)\n",
        "\n",
        "        preds = outputs.argmax(dim=1).cpu().numpy()\n",
        "        all_preds.extend(preds)\n",
        "        all_targets.extend(y.cpu().numpy())\n",
        "\n",
        "end_time = time.time()\n",
        "inference_time = end_time - start_time\n",
        "avg_test_loss = total_loss / total_samples\n",
        "test_accuracy = accuracy_score(all_targets, all_preds)\n",
        "\n",
        "print(\"\\nTest Seti Sonuçları:\")\n",
        "print(f\"Ortalama Test Loss : {avg_test_loss:.4f}\")\n",
        "print(f\"Test Accuracy       : {test_accuracy:.4f}\")\n",
        "print(f\"Toplam Çıkarım Süresi: {inference_time:.2f} saniye\")\n",
        "\n",
        "# === Classification Report ===\n",
        "print(\"\\nTest Classification Report:\")\n",
        "print(classification_report(all_targets, all_preds, target_names=[\"Mağlubiyet\", \"Beraberlik\", \"Galibiyet\"]))\n",
        "\n",
        "# === Confusion Matrix ===\n",
        "cm = confusion_matrix(all_targets, all_preds)\n",
        "disp = ConfusionMatrixDisplay(confusion_matrix=cm, display_labels=[\"Mağlubiyet\", \"Beraberlik\", \"Galibiyet\"])\n",
        "disp.plot(cmap=plt.cm.Blues)\n",
        "plt.title(\"Confusion Matrix\")\n",
        "plt.grid(False)\n",
        "plt.show()\n",
        "\n",
        "# === ROC Eğrileri için: one-hot + probabilistic output ===\n",
        "y_test_bin = label_binarize(all_targets, classes=[0, 1, 2])\n",
        "all_probs = []\n",
        "\n",
        "with torch.no_grad():\n",
        "    for x_seq, x_static, team_ids, rival_ids, _ in test_loader:\n",
        "        x_seq = x_seq.to(device)\n",
        "        x_static = x_static.to(device)\n",
        "        team_ids = team_ids.to(device)\n",
        "        rival_ids = rival_ids.to(device)\n",
        "\n",
        "        logits = model(x_seq, x_static, team_ids, rival_ids)\n",
        "        probs = torch.softmax(logits, dim=1)\n",
        "        all_probs.append(probs.cpu().numpy())\n",
        "\n",
        "all_probs = np.concatenate(all_probs, axis=0)\n",
        "\n",
        "# ROC hesaplaması\n",
        "fpr, tpr, roc_auc = {}, {}, {}\n",
        "n_classes = 3\n",
        "class_names = ['Mağlubiyet', 'Beraberlik', 'Galibiyet']\n",
        "colors = ['red', 'orange', 'green']\n",
        "\n",
        "for i in range(n_classes):\n",
        "    fpr[i], tpr[i], _ = roc_curve(y_test_bin[:, i], all_probs[:, i])\n",
        "    roc_auc[i] = auc(fpr[i], tpr[i])\n",
        "\n",
        "plt.figure(figsize=(8, 6))\n",
        "for i in range(n_classes):\n",
        "    plt.plot(fpr[i], tpr[i], color=colors[i], lw=2,\n",
        "             label=f\"{class_names[i]} (AUC = {roc_auc[i]:.2f})\")\n",
        "\n",
        "plt.plot([0, 1], [0, 1], 'k--', lw=1.5)\n",
        "plt.xlim([0.0, 1.0])\n",
        "plt.ylim([0.0, 1.05])\n",
        "plt.xlabel(\"False Positive Rate\")\n",
        "plt.ylabel(\"True Positive Rate\")\n",
        "plt.title(\"ROC Eğrileri (One-vs-Rest)\")\n",
        "plt.legend(loc=\"lower right\")\n",
        "plt.grid(True)\n",
        "plt.show()"
      ],
      "metadata": {
        "colab": {
          "base_uri": "https://localhost:8080/",
          "height": 1000
        },
        "id": "mAD0QirG-9mz",
        "outputId": "a9022add-039c-4807-aae4-8c6562b5902d"
      },
      "execution_count": null,
      "outputs": [
        {
          "output_type": "stream",
          "name": "stdout",
          "text": [
            "\n",
            "Test Seti Sonuçları:\n",
            "Ortalama Test Loss : 1.0113\n",
            "Test Accuracy       : 0.4946\n",
            "Toplam Çıkarım Süresi: 0.04 saniye\n",
            "\n",
            "Test Classification Report:\n",
            "              precision    recall  f1-score   support\n",
            "\n",
            "  Mağlubiyet       0.41      0.61      0.49       155\n",
            "  Beraberlik       0.17      0.19      0.18       106\n",
            "   Galibiyet       0.77      0.54      0.64       299\n",
            "\n",
            "    accuracy                           0.49       560\n",
            "   macro avg       0.45      0.45      0.44       560\n",
            "weighted avg       0.56      0.49      0.51       560\n",
            "\n"
          ]
        },
        {
          "output_type": "display_data",
          "data": {
            "text/plain": [
              "<Figure size 640x480 with 2 Axes>"
            ],
            "image/png": "[encoded data removed]"
          },
          "metadata": {}
        },
        {
          "output_type": "display_data",
          "data": {
            "text/plain": [
              "<Figure size 800x600 with 1 Axes>"
            ],
            "image/png": "[encoded data removed]"
          },
          "metadata": {}
        }
      ]
    },
    {
      "cell_type": "code",
      "source": [
        "\n",
        "# Confusion Matrix al\n",
        "cm = confusion_matrix(all_targets, all_preds, labels=[0, 1, 2])  # sıralama: Loss, Draw, Win\n",
        "class_names = [\"Mağlubiyet\", \"Beraberlik\", \"Galibiyet\"]\n",
        "\n",
        "print(\"📊 Confusion Matrix:\\n\", cm)\n",
        "\n",
        "for i, class_name in enumerate(class_names):\n",
        "    TP = cm[i, i]\n",
        "    FN = cm[i, :].sum() - TP\n",
        "    FP = cm[:, i].sum() - TP\n",
        "    TN = cm.sum() - (TP + FN + FP)\n",
        "\n",
        "    sensitivity = TP / (TP + FN) if (TP + FN) > 0 else 0.0\n",
        "    specificity = TN / (TN + FP) if (TN + FP) > 0 else 0.0\n",
        "\n",
        "    print(f\"\\n🔎 Sınıf: {class_name}\")\n",
        "    print(f\"✅ Sensitivity (TPR): {sensitivity:.4f}\")\n",
        "    print(f\"🚫 Specificity (TNR): {specificity:.4f}\")\n"
      ],
      "metadata": {
        "id": "e4Il2J9E_11F",
        "colab": {
          "base_uri": "https://localhost:8080/"
        },
        "outputId": "48b04a69-07f1-430f-f702-04c46bb05c5d"
      },
      "execution_count": null,
      "outputs": [
        {
          "output_type": "stream",
          "name": "stdout",
          "text": [
            "📊 Confusion Matrix:\n",
            " [[ 95  34  26]\n",
            " [ 63  20  23]\n",
            " [ 74  63 162]]\n",
            "\n",
            "🔎 Sınıf: Mağlubiyet\n",
            "✅ Sensitivity (TPR): 0.6129\n",
            "🚫 Specificity (TNR): 0.6617\n",
            "\n",
            "🔎 Sınıf: Beraberlik\n",
            "✅ Sensitivity (TPR): 0.1887\n",
            "🚫 Specificity (TNR): 0.7863\n",
            "\n",
            "🔎 Sınıf: Galibiyet\n",
            "✅ Sensitivity (TPR): 0.5418\n",
            "🚫 Specificity (TNR): 0.8123\n"
          ]
        }
      ]
    },
    {
      "cell_type": "code",
      "source": [],
      "metadata": {
        "id": "xB3pMmJE5ZKR"
      },
      "execution_count": null,
      "outputs": []
    }
  ]
}