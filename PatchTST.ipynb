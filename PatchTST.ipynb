{
  "nbformat": 4,
  "nbformat_minor": 0,
  "metadata": {
    "colab": {
      "provenance": [],
      "gpuType": "T4",
      "authorship_tag": "ABX9TyNmpB0T+eQSLVdOLnF5CKt8",
      "include_colab_link": true
    },
    "kernelspec": {
      "name": "python3",
      "display_name": "Python 3"
    },
    "language_info": {
      "name": "python"
    },
    "accelerator": "GPU"
  },
  "cells": [
    {
      "cell_type": "markdown",
      "metadata": {
        "id": "view-in-github",
        "colab_type": "text"
      },
      "source": [
        "<a href=\"https://colab.research.google.com/github/ensarakbas77/Match-Result-Prediction/blob/main/PatchTST.ipynb\" target=\"_parent\"><img src=\"https://colab.research.google.com/assets/colab-badge.svg\" alt=\"Open In Colab\"/></a>"
      ]
    },
    {
      "cell_type": "code",
      "execution_count": null,
      "metadata": {
        "id": "pwH0y8CDsN61"
      },
      "outputs": [],
      "source": [
        "import pandas as pd\n",
        "import matplotlib.pyplot as plt\n",
        "import seaborn as sns\n",
        "import numpy as np\n",
        "from collections import Counter\n",
        "from sklearn.preprocessing import StandardScaler\n",
        "from sklearn.preprocessing import OneHotEncoder\n",
        "from sklearn.utils.class_weight import compute_class_weight\n",
        "import torch\n",
        "import torch.nn as nn\n",
        "import torch.nn.functional as F\n",
        "from torch.utils.data import TensorDataset, DataLoader\n",
        "from sklearn.preprocessing import LabelEncoder\n",
        "import warnings\n",
        "import time\n",
        "from sklearn.metrics import confusion_matrix, roc_curve, auc\n",
        "from sklearn.preprocessing import label_binarize\n",
        "from sklearn.metrics import classification_report"
      ]
    },
    {
      "cell_type": "code",
      "source": [
        "import tensorflow as tf\n",
        "tf.test.gpu_device_name()"
      ],
      "metadata": {
        "colab": {
          "base_uri": "https://localhost:8080/",
          "height": 35
        },
        "id": "CisEpAi1htqQ",
        "outputId": "4a086f23-f31f-4601-9419-66055c93e714"
      },
      "execution_count": null,
      "outputs": [
        {
          "output_type": "execute_result",
          "data": {
            "text/plain": [
              "''"
            ],
            "application/vnd.google.colaboratory.intrinsic+json": {
              "type": "string"
            }
          },
          "metadata": {},
          "execution_count": 2
        }
      ]
    },
    {
      "cell_type": "code",
      "source": [
        "file_path= 'Matches.xlsx'\n",
        "df=pd.read_excel(file_path)\n",
        "\n",
        "# Sadece geçerli sonuçları tut\n",
        "df = df[df['Sonuç'].isin([-1, 0, 1])]\n",
        "\n",
        "# Haritalama işlemi\n",
        "sonuc_mapping = {-1: 0, 0: 1, 1: 2}\n",
        "df['Sonuç'] = df['Sonuç'].map(sonuc_mapping)"
      ],
      "metadata": {
        "id": "H6RSHx4FNjnW"
      },
      "execution_count": null,
      "outputs": []
    },
    {
      "cell_type": "markdown",
      "source": [
        "# **SEKANS VE STATİK ÖZELLİKLER**"
      ],
      "metadata": {
        "id": "-fpZD-gBT9dV"
      }
    },
    {
      "cell_type": "code",
      "source": [
        "# Takıma ve tarihe göre sırala\n",
        "df = df.sort_values(by=['Takım ID', 'Tarih'])\n",
        "\n",
        "# Boş değeri doldur\n",
        "df[\"Şut Verimliliği\"] = df[\"Şut Verimliliği\"].fillna(df[\"Şut Verimliliği\"].mean())\n",
        "\n",
        "# Feature listeleri\n",
        "sequence_features = [\n",
        "    'Gol', 'Rakip Gol', 'Topla Oynama(%)', 'Şut', 'İsabetli Şut', 'Başarılı Pas',\n",
        "    'Pas Başarısı(%)', 'Korner', 'Orta', 'Faul', 'Ofsayt',\n",
        "    'Rakip Topla Oynama(%)', 'Rakip Şut', 'Rakip İsabetli Şut', 'Rakip Başarılı Pas',\n",
        "    'Rakip Pas Başarısı(%)', 'Rakip Korner', 'Rakip Orta', 'Rakip Faul', 'Rakip Ofsayt'\n",
        "]\n",
        "\n",
        "static_features = [\n",
        "    'Takım ID', 'Rakip Takım ID', 'Is_Home', 'Sezon', 'Ay', 'Haftanın Günü',\n",
        "    'Şut Verimliliği', 'Son 5 Maç Gol Ort', 'Son 5 Maç Galibiyet Oranı'\n",
        "]\n",
        "\n",
        "\n",
        "feature_means = df[sequence_features].mean().values\n",
        "\n",
        "def pad_sequence(seq, K, mean_vec):\n",
        "    if len(seq) < K:\n",
        "        padding = np.tile(mean_vec, (K - len(seq), 1))\n",
        "        return np.vstack([padding, seq])\n",
        "    return seq\n",
        "\n",
        "\n",
        "K = 10\n",
        "X_seq = []\n",
        "X_static = []\n",
        "y = []\n",
        "\n",
        "for idx, row in df.iterrows():\n",
        "    takim_id = row['Takım ID']\n",
        "    rakip_id = row['Rakip Takım ID']\n",
        "    tarih = row['Tarih']\n",
        "\n",
        "    takim_gecmis = df[(df['Takım ID'] == takim_id) & (df['Tarih'] < tarih)].sort_values(by='Tarih').tail(K)\n",
        "\n",
        "    rakip_gecmis = df[(df['Takım ID'] == rakip_id) & (df['Tarih'] < tarih)].sort_values(by='Tarih').tail(K)\n",
        "\n",
        "    #if len(takim_gecmis) < 1 or len(rakip_gecmis) < 1:\n",
        "        #continue\n",
        "\n",
        "    takim_seq = pad_sequence(takim_gecmis[sequence_features].values, K, feature_means)\n",
        "    rakip_seq = pad_sequence(rakip_gecmis[sequence_features].values, K, feature_means)\n",
        "\n",
        "    full_seq = np.vstack([takim_seq, rakip_seq])\n",
        "\n",
        "    static_vec = row[static_features].values.astype(np.float32)\n",
        "    label = row['Sonuç']\n",
        "\n",
        "    X_seq.append(full_seq)\n",
        "    X_static.append(static_vec)\n",
        "    y.append(label)\n"
      ],
      "metadata": {
        "id": "L3CW0wQ_T8Vz"
      },
      "execution_count": null,
      "outputs": []
    },
    {
      "cell_type": "code",
      "source": [
        "X_seq = np.array(X_seq, dtype=np.float32)\n",
        "X_static = np.array(X_static, dtype=np.float32)\n",
        "y = np.array(y, dtype=np.int64)\n",
        "\n",
        "print(\"X_seq shape     :\", X_seq.shape)\n",
        "print(\"X_static shape  :\", X_static.shape)\n",
        "print(\"y shape         :\", y.shape)\n",
        "print(\"Sınıf dağılımı  :\", Counter(y))\n"
      ],
      "metadata": {
        "colab": {
          "base_uri": "https://localhost:8080/"
        },
        "id": "oY2pxQP1NjqI",
        "outputId": "cbe12cf9-9631-4230-dfbf-80c83ee20897"
      },
      "execution_count": null,
      "outputs": [
        {
          "output_type": "stream",
          "name": "stdout",
          "text": [
            "X_seq shape     : (3734, 20, 20)\n",
            "X_static shape  : (3734, 9)\n",
            "y shape         : (3734,)\n",
            "Sınıf dağılımı  : Counter({np.int64(2): 2241, np.int64(0): 788, np.int64(1): 705})\n"
          ]
        }
      ]
    },
    {
      "cell_type": "markdown",
      "source": [
        "# **Küme Ayrımı**"
      ],
      "metadata": {
        "id": "n3vN6nkIUF-y"
      }
    },
    {
      "cell_type": "code",
      "source": [
        "val_ratio = 0.15\n",
        "test_ratio = 0.15\n",
        "\n",
        "total_samples = len(X_seq)\n",
        "test_size = int(total_samples * test_ratio)\n",
        "val_size = int(total_samples * val_ratio)\n",
        "train_size = total_samples - val_size - test_size\n",
        "\n",
        "X_seq_train = X_seq[:train_size]\n",
        "X_static_train = X_static[:train_size]\n",
        "y_train = y[:train_size]\n",
        "\n",
        "X_seq_val = X_seq[train_size:train_size + val_size]\n",
        "X_static_val = X_static[train_size:train_size + val_size]\n",
        "y_val = y[train_size:train_size + val_size]\n",
        "\n",
        "X_seq_test = X_seq[-test_size:]\n",
        "X_static_test = X_static[-test_size:]\n",
        "y_test = y[-test_size:]\n",
        "\n",
        "\n",
        "print(\"Train:\", len(y_train), \"Val:\", len(y_val), \"Test:\", len(y_test))\n",
        "print(\"Train Sınıf Dağılımı:\", Counter(y_train))\n",
        "print(\"Val   Sınıf Dağılımı:\", Counter(y_val))\n",
        "print(\"Test  Sınıf Dağılımı:\", Counter(y_test))\n"
      ],
      "metadata": {
        "colab": {
          "base_uri": "https://localhost:8080/"
        },
        "id": "Q6g8f5w1UCcv",
        "outputId": "5445d991-9800-4ed1-c279-4e795529737d"
      },
      "execution_count": null,
      "outputs": [
        {
          "output_type": "stream",
          "name": "stdout",
          "text": [
            "Train: 2614 Val: 560 Test: 560\n",
            "Train Sınıf Dağılımı: Counter({np.int64(2): 1604, np.int64(0): 512, np.int64(1): 498})\n",
            "Val   Sınıf Dağılımı: Counter({np.int64(2): 338, np.int64(0): 121, np.int64(1): 101})\n",
            "Test  Sınıf Dağılımı: Counter({np.int64(2): 299, np.int64(0): 155, np.int64(1): 106})\n"
          ]
        }
      ]
    },
    {
      "cell_type": "markdown",
      "source": [
        "# **Encoding + Ölçekleme**"
      ],
      "metadata": {
        "id": "wTySi4XRUIpm"
      }
    },
    {
      "cell_type": "code",
      "source": [
        "# 1. Tüm setleri DataFrame'e çevir\n",
        "df_static_train = pd.DataFrame(X_static_train, columns=static_features)\n",
        "df_static_val   = pd.DataFrame(X_static_val,   columns=static_features)\n",
        "df_static_test  = pd.DataFrame(X_static_test,  columns=static_features)\n",
        "\n",
        "# 2. Takım ve Rakip ID'leri ayır\n",
        "takim_ids_train = df_static_train[\"Takım ID\"].values.astype(np.int64)\n",
        "rakip_ids_train = df_static_train[\"Rakip Takım ID\"].values.astype(np.int64)\n",
        "\n",
        "takim_ids_val = df_static_val[\"Takım ID\"].values.astype(np.int64)\n",
        "rakip_ids_val = df_static_val[\"Rakip Takım ID\"].values.astype(np.int64)\n",
        "\n",
        "takim_ids_test = df_static_test[\"Takım ID\"].values.astype(np.int64)\n",
        "rakip_ids_test = df_static_test[\"Rakip Takım ID\"].values.astype(np.int64)\n",
        "\n",
        "# 3. Encoding yapılacak sütunlar\n",
        "categorical_ohe_cols = ['Sezon', 'Ay', 'Haftanın Günü']\n",
        "numerical_cols = ['Is_Home', 'Şut Verimliliği', 'Son 5 Maç Gol Ort', 'Son 5 Maç Galibiyet Oranı']\n",
        "\n",
        "# 4. One-Hot Encoder\n",
        "ohe = OneHotEncoder(sparse_output=False, handle_unknown='ignore')\n",
        "ohe.fit(df_static_train[categorical_ohe_cols])\n",
        "\n",
        "# 5. Encode edilmiş kategorik özellikler\n",
        "ohe_train = ohe.transform(df_static_train[categorical_ohe_cols])\n",
        "ohe_val   = ohe.transform(df_static_val[categorical_ohe_cols])\n",
        "ohe_test  = ohe.transform(df_static_test[categorical_ohe_cols])\n",
        "\n",
        "# 6. Numerik özellikler için StandardScaler\n",
        "scaler = StandardScaler()\n",
        "scaler.fit(df_static_train[numerical_cols])\n",
        "\n",
        "scaled_train = scaler.transform(df_static_train[numerical_cols])\n",
        "scaled_val   = scaler.transform(df_static_val[numerical_cols])\n",
        "scaled_test  = scaler.transform(df_static_test[numerical_cols])\n",
        "\n",
        "# 7. Final encode edilmiş\n",
        "X_static_train_encoded = np.hstack([ohe_train, scaled_train]).astype(np.float32)\n",
        "X_static_val_encoded   = np.hstack([ohe_val, scaled_val]).astype(np.float32)\n",
        "X_static_test_encoded  = np.hstack([ohe_test, scaled_test]).astype(np.float32)\n",
        "\n",
        "\n",
        "# X_seq: (N, T=20, F=20)\n",
        "N_train = X_seq_train.shape[0]\n",
        "N_val   = X_seq_val.shape[0]\n",
        "N_test  = X_seq_test.shape[0]\n",
        "seq_len = X_seq_train.shape[1]\n",
        "F       = X_seq_train.shape[2]\n",
        "\n",
        "scaler_seq = StandardScaler()\n",
        "\n",
        "# --- Train: fit + transform ---\n",
        "X_seq_train_flat = X_seq_train.reshape(-1, F)\n",
        "X_seq_train_scaled_flat = scaler_seq.fit_transform(X_seq_train_flat)\n",
        "X_seq_train_scaled = X_seq_train_scaled_flat.reshape(N_train, seq_len, F)\n",
        "\n",
        "# --- Val: transform only ---\n",
        "X_seq_val_flat = X_seq_val.reshape(-1, F)\n",
        "X_seq_val_scaled_flat = scaler_seq.transform(X_seq_val_flat)\n",
        "X_seq_val_scaled = X_seq_val_scaled_flat.reshape(N_val, seq_len, F)\n",
        "\n",
        "# --- Test: transform only ---\n",
        "X_seq_test_flat = X_seq_test.reshape(-1, F)\n",
        "X_seq_test_scaled_flat = scaler_seq.transform(X_seq_test_flat)\n",
        "X_seq_test_scaled = X_seq_test_scaled_flat.reshape(N_test, seq_len, F)\n"
      ],
      "metadata": {
        "id": "bB91d5ByUIN4"
      },
      "execution_count": null,
      "outputs": []
    },
    {
      "cell_type": "code",
      "source": [
        "X_static_train = X_static_train_encoded\n",
        "X_static_val   = X_static_val_encoded\n",
        "X_static_test  = X_static_test_encoded\n",
        "\n",
        "X_seq_train = X_seq_train_scaled\n",
        "X_seq_val   = X_seq_val_scaled\n",
        "X_seq_test  = X_seq_test_scaled\n",
        "\n",
        "# 8. Kontrol\n",
        "print(\"X_static_train:\", X_static_train.shape)\n",
        "print(\"X_static_val  :\", X_static_val.shape)\n",
        "print(\"X_static_test :\", X_static_test.shape)\n",
        "print()\n",
        "print(\"takim_ids_train:\", takim_ids_train.shape)\n",
        "print(\"takim_ids_test\", takim_ids_test.shape)\n",
        "print(\"takim_ids_val\", takim_ids_val.shape)\n",
        "print()\n",
        "print(\"rakip_ids_train:\", rakip_ids_train.shape)\n",
        "print(\"rakip_ids_test\", rakip_ids_test.shape)\n",
        "print(\"rakip_ids_val\", rakip_ids_val.shape)\n",
        "print()\n",
        "print(\"X_seq_train:\", X_seq_train.shape)\n",
        "print(\"X_seq_val  :\", X_seq_val.shape)\n",
        "print(\"X_seq_test :\", X_seq_test.shape)"
      ],
      "metadata": {
        "colab": {
          "base_uri": "https://localhost:8080/"
        },
        "id": "BlTs56_8UCfV",
        "outputId": "22405670-f6fc-4d1e-d565-6e6162762371"
      },
      "execution_count": null,
      "outputs": [
        {
          "output_type": "stream",
          "name": "stdout",
          "text": [
            "X_static_train: (2614, 36)\n",
            "X_static_val  : (560, 36)\n",
            "X_static_test : (560, 36)\n",
            "\n",
            "takim_ids_train: (2614,)\n",
            "takim_ids_test (560,)\n",
            "takim_ids_val (560,)\n",
            "\n",
            "rakip_ids_train: (2614,)\n",
            "rakip_ids_test (560,)\n",
            "rakip_ids_val (560,)\n",
            "\n",
            "X_seq_train: (2614, 20, 20)\n",
            "X_seq_val  : (560, 20, 20)\n",
            "X_seq_test : (560, 20, 20)\n"
          ]
        }
      ]
    },
    {
      "cell_type": "code",
      "source": [
        "from sklearn.preprocessing import LabelEncoder\n",
        "\n",
        "le = LabelEncoder()\n",
        "\n",
        "# Tüm ID'leri birleştir\n",
        "all_ids = np.concatenate([takim_ids_train, takim_ids_val, takim_ids_test,\n",
        "                          rakip_ids_train, rakip_ids_val, rakip_ids_test])\n",
        "\n",
        "# Fit işlemi tüm ID'lere yapılmalı\n",
        "le.fit(all_ids)\n",
        "\n",
        "# Encode işlemi (dönüştürme)\n",
        "takim_ids_train_enc = le.transform(takim_ids_train)\n",
        "rakip_ids_train_enc = le.transform(rakip_ids_train)\n",
        "\n",
        "takim_ids_val_enc = le.transform(takim_ids_val)\n",
        "rakip_ids_val_enc = le.transform(rakip_ids_val)\n",
        "\n",
        "takim_ids_test_enc = le.transform(takim_ids_test)\n",
        "rakip_ids_test_enc = le.transform(rakip_ids_test)\n",
        "\n",
        "# Yeni vocab size\n",
        "team_vocab_size = len(le.classes_)\n"
      ],
      "metadata": {
        "id": "BR8Dw5fRUCh0"
      },
      "execution_count": null,
      "outputs": []
    },
    {
      "cell_type": "markdown",
      "source": [
        "# **MODEL**"
      ],
      "metadata": {
        "id": "N2w9TA2WUPiQ"
      }
    },
    {
      "cell_type": "code",
      "source": [
        "device = torch.device(\"cuda\" if torch.cuda.is_available() else \"cpu\")\n",
        "\n",
        "# Tensöre çevirme\n",
        "def to_tensor(x, dtype=torch.float32):\n",
        "    return torch.tensor(x, dtype=dtype)\n",
        "\n",
        "# Tüm takım ID'lerini birleştir\n",
        "all_team_ids = np.concatenate([takim_ids_train, takim_ids_val, takim_ids_test])\n",
        "\n",
        "# LabelEncoder oluştur ve tüm ID'leri fit et\n",
        "team_encoder = LabelEncoder()\n",
        "team_encoder.fit(all_team_ids)\n",
        "\n",
        "# Takım ID'lerini encode et\n",
        "takim_ids_train_enc = team_encoder.transform(takim_ids_train)\n",
        "takim_ids_val_enc = team_encoder.transform(takim_ids_val)\n",
        "takim_ids_test_enc = team_encoder.transform(takim_ids_test)\n",
        "\n",
        "# Eğitim Tensor\n",
        "x_seq_train_tensor     = to_tensor(X_seq_train)\n",
        "x_static_train_tensor  = to_tensor(X_static_train)\n",
        "takim_ids_train_tensor = torch.tensor(takim_ids_train_enc, dtype=torch.long)\n",
        "rakip_ids_train_tensor = torch.tensor(rakip_ids_train_enc, dtype=torch.long)\n",
        "y_train_tensor         = torch.tensor(y_train, dtype=torch.long)\n",
        "\n",
        "# Validation\n",
        "x_seq_val_tensor     = to_tensor(X_seq_val)\n",
        "x_static_val_tensor  = to_tensor(X_static_val)\n",
        "takim_ids_val_tensor = torch.tensor(takim_ids_val_enc, dtype=torch.long)\n",
        "rakip_ids_val_tensor = torch.tensor(rakip_ids_val_enc, dtype=torch.long)\n",
        "y_val_tensor         = torch.tensor(y_val, dtype=torch.long)\n",
        "\n",
        "# Test\n",
        "x_seq_test_tensor     = to_tensor(X_seq_test)\n",
        "x_static_test_tensor  = to_tensor(X_static_test)\n",
        "takim_ids_test_tensor = torch.tensor(takim_ids_test_enc, dtype=torch.long)\n",
        "rakip_ids_test_tensor = torch.tensor(rakip_ids_test_enc, dtype=torch.long)\n",
        "y_test_tensor         = torch.tensor(y_test, dtype=torch.long)\n",
        "\n",
        "\n",
        "# 1. Tüm takım ID'lerini birleştir\n",
        "all_team_ids = np.concatenate([\n",
        "    takim_ids_train, takim_ids_val, takim_ids_test,\n",
        "    rakip_ids_train, rakip_ids_val, rakip_ids_test\n",
        "])\n",
        "\n",
        "# 2. LabelEncoder oluştur ve tüm ID'leri fit et\n",
        "team_encoder = LabelEncoder()\n",
        "team_encoder.fit(all_team_ids)\n",
        "\n",
        "# 3. Takım ve rakip ID'lerini aynı encoder ile transform et\n",
        "takim_ids_train_enc = team_encoder.transform(takim_ids_train)\n",
        "rakip_ids_train_enc = team_encoder.transform(rakip_ids_train)\n",
        "\n",
        "takim_ids_val_enc = team_encoder.transform(takim_ids_val)\n",
        "rakip_ids_val_enc = team_encoder.transform(rakip_ids_val)\n",
        "\n",
        "takim_ids_test_enc = team_encoder.transform(takim_ids_test)\n",
        "rakip_ids_test_enc = team_encoder.transform(rakip_ids_test)\n",
        "\n",
        "# 4. TensorDataset'leri güncelle\n",
        "train_dataset = TensorDataset(\n",
        "    x_seq_train_tensor,\n",
        "    x_static_train_tensor,\n",
        "    torch.tensor(takim_ids_train_enc, dtype=torch.long),\n",
        "    torch.tensor(rakip_ids_train_enc, dtype=torch.long),\n",
        "    y_train_tensor\n",
        ")\n",
        "\n",
        "val_dataset = TensorDataset(\n",
        "    x_seq_val_tensor,\n",
        "    x_static_val_tensor,\n",
        "    torch.tensor(takim_ids_val_enc, dtype=torch.long),\n",
        "    torch.tensor(rakip_ids_val_enc, dtype=torch.long),\n",
        "    y_val_tensor\n",
        ")\n",
        "\n",
        "test_dataset = TensorDataset(\n",
        "    x_seq_test_tensor,\n",
        "    x_static_test_tensor,\n",
        "    torch.tensor(takim_ids_test_enc, dtype=torch.long),\n",
        "    torch.tensor(rakip_ids_test_enc, dtype=torch.long),\n",
        "    y_test_tensor\n",
        ")\n",
        "\n",
        "# 5. Model parametrelerini güncelle\n",
        "num_teams = len(team_encoder.classes_)\n",
        "print(f\"Toplam benzersiz takım sayısı: {num_teams}\")\n",
        "print(f\"Encoded Takım ID Aralığı: 0 - {num_teams-1}\")\n",
        "\n",
        "# Kontrol: ID'lerin embedding boyutunu aşmadığından emin ol\n",
        "assert takim_ids_train_enc.max() < num_teams\n",
        "assert rakip_ids_train_enc.max() < num_teams\n",
        "assert takim_ids_val_enc.max() < num_teams\n",
        "assert rakip_ids_val_enc.max() < num_teams\n",
        "assert takim_ids_test_enc.max() < num_teams\n",
        "assert rakip_ids_test_enc.max() < num_teams"
      ],
      "metadata": {
        "colab": {
          "base_uri": "https://localhost:8080/"
        },
        "id": "ZZ--6VTzUCkQ",
        "outputId": "3b893ee3-676e-4e52-ba87-4f6b3ace6a5a"
      },
      "execution_count": null,
      "outputs": [
        {
          "output_type": "stream",
          "name": "stdout",
          "text": [
            "Toplam benzersiz takım sayısı: 294\n",
            "Encoded Takım ID Aralığı: 0 - 293\n"
          ]
        }
      ]
    },
    {
      "cell_type": "code",
      "source": [
        "def create_patches(x, patch_len, stride):\n",
        "\n",
        "    batch_size, seq_len, n_vars = x.shape\n",
        "\n",
        "    x = x.permute(0, 2, 1)\n",
        "\n",
        "    patches = x.unfold(dimension=-1, size=patch_len, step=stride)\n",
        "\n",
        "    patches = patches.contiguous()\n",
        "\n",
        "    patches = patches.view(batch_size * n_vars, patches.size(2), patches.size(3))\n",
        "    return patches\n",
        "\n",
        "class PatchTSTModel(nn.Module):\n",
        "    def __init__(self, seq_len, n_vars, patch_len, stride, d_model, nhead, num_layers, static_dim, num_teams, num_classes):\n",
        "        super().__init__()\n",
        "\n",
        "        self.patch_len = patch_len\n",
        "        self.stride = stride\n",
        "        self.num_patches = (seq_len - patch_len) // stride + 1\n",
        "\n",
        "\n",
        "        self.patch_embed = nn.Linear(patch_len, d_model)\n",
        "        self.pos_embed = nn.Parameter(torch.randn(1, self.num_patches, d_model))\n",
        "\n",
        "\n",
        "        encoder_layer = nn.TransformerEncoderLayer(\n",
        "            d_model=d_model, nhead=nhead, batch_first=True, dropout=0.5\n",
        "        )\n",
        "        self.transformer = nn.TransformerEncoder(encoder_layer, num_layers=num_layers)\n",
        "\n",
        "\n",
        "        self.team_embed = nn.Embedding(num_teams, 16)\n",
        "\n",
        "\n",
        "        self.static_proj = nn.Sequential(\n",
        "            nn.Linear(static_dim, 64),\n",
        "            nn.ReLU()\n",
        "        )\n",
        "        self.cross_var_attn = nn.MultiheadAttention(embed_dim=64, num_heads=4)\n",
        "\n",
        "        self.classifier = nn.Sequential(\n",
        "            nn.Linear(d_model + 64 + 16*2, 128),\n",
        "            nn.ReLU(),\n",
        "            nn.Dropout(0.5),\n",
        "            nn.Linear(128, num_classes))\n",
        "\n",
        "    def forward(self, x_seq, x_static, takim_ids, rakip_ids):\n",
        "\n",
        "        patches = create_patches(x_seq, self.patch_len, self.stride)\n",
        "\n",
        "        patches = self.patch_embed(patches)\n",
        "\n",
        "        patches += self.pos_embed\n",
        "        out = self.transformer(patches)\n",
        "\n",
        "        out = out.mean(dim=1)\n",
        "        out = out.view(x_seq.size(0), -1, out.size(-1))\n",
        "        out = out.mean(dim=1)\n",
        "\n",
        "        takim_emb = self.team_embed(takim_ids)\n",
        "        rakip_emb = self.team_embed(rakip_ids)\n",
        "        static_out = self.static_proj(x_static)\n",
        "        combined = torch.cat([out, static_out, takim_emb, rakip_emb], dim=1)\n",
        "        return self.classifier(combined)"
      ],
      "metadata": {
        "id": "CmejLdj_URFm"
      },
      "execution_count": null,
      "outputs": []
    },
    {
      "cell_type": "code",
      "source": [
        "model = PatchTSTModel(\n",
        "    seq_len=20,\n",
        "    n_vars=20,\n",
        "    patch_len=2,\n",
        "    stride=2,\n",
        "    d_model=64,\n",
        "    nhead=4,\n",
        "    num_layers=2,\n",
        "    static_dim=X_static_train.shape[1],\n",
        "    num_teams=num_teams,\n",
        "    num_classes=3\n",
        ").to(device)"
      ],
      "metadata": {
        "id": "fLoK9kDBYe35"
      },
      "execution_count": null,
      "outputs": []
    },
    {
      "cell_type": "code",
      "source": [
        "import torch.nn.functional as F\n",
        "\n",
        "warnings.filterwarnings(\"ignore\", category=UserWarning, message=\"The epoch parameter in `scheduler.step()`\")\n",
        "\n",
        "# Focal Loss tanımı\n",
        "class FocalLoss(nn.Module):\n",
        "    def __init__(self, alpha=None, gamma=2.5, reduction='mean'):\n",
        "        super(FocalLoss, self).__init__()\n",
        "        self.gamma = gamma\n",
        "        self.alpha = alpha\n",
        "        self.reduction = reduction\n",
        "\n",
        "    def forward(self, inputs, targets):\n",
        "        ce_loss = F.cross_entropy(inputs, targets, reduction='none')\n",
        "        pt = torch.exp(-ce_loss)\n",
        "        focal_loss = (1 - pt) ** self.gamma * ce_loss\n",
        "\n",
        "        if self.alpha is not None:\n",
        "            alpha_t = self.alpha[targets]\n",
        "            focal_loss = alpha_t * focal_loss\n",
        "\n",
        "        if self.reduction == 'mean':\n",
        "            return focal_loss.mean()\n",
        "        elif self.reduction == 'sum':\n",
        "            return focal_loss.sum()\n",
        "        return focal_loss\n",
        "\n",
        "# Sınıf ağırlıkları\n",
        "class_weights = compute_class_weight('balanced', classes=np.unique(y_train), y=y_train)\n",
        "class_weights = torch.tensor(class_weights, dtype=torch.float).to(device)\n",
        "criterion = FocalLoss(alpha=class_weights, gamma=2.5).to(device)\n",
        "\n",
        "# Optimizer\n",
        "optimizer = torch.optim.Adam(model.parameters(), lr=0.0005, weight_decay=1e-3)\n",
        "\n",
        "# Scheduler\n",
        "scheduler = torch.optim.lr_scheduler.ReduceLROnPlateau(\n",
        "    optimizer,\n",
        "    mode='min',\n",
        "    factor=0.5,\n",
        "    patience=5,\n",
        "    min_lr=1e-6,\n",
        "    verbose=True\n",
        ")\n",
        "\n",
        "# DataLoader'lar\n",
        "batch_size = 32\n",
        "train_loader = DataLoader(train_dataset, batch_size=batch_size, shuffle=True, num_workers=2, pin_memory=True)\n",
        "val_loader = DataLoader(val_dataset, batch_size=batch_size, num_workers=2, pin_memory=True)\n",
        "test_loader = DataLoader(test_dataset, batch_size=batch_size, num_workers=2, pin_memory=True)\n",
        "\n",
        "# Eğitim döngüsü ve erken durdurma\n",
        "train_losses = []\n",
        "val_losses = []\n",
        "best_val_loss = float('inf')\n",
        "patience = 10\n",
        "no_improve_count = 0\n",
        "min_delta = 0.001\n",
        "\n",
        "epochs=60\n",
        "\n",
        "# Eğitim süresi ölçümü\n",
        "total_train_start = time.time()\n",
        "\n",
        "\n",
        "for epoch in range(epochs):\n",
        "    # Training\n",
        "    model.train()\n",
        "    train_epoch_loss = 0\n",
        "\n",
        "    for x_seq, x_static, takim, rakip, labels in train_loader:\n",
        "\n",
        "        x_seq = x_seq.to(device, non_blocking=True)\n",
        "        x_static = x_static.to(device, non_blocking=True)\n",
        "        takim = takim.to(device, non_blocking=True)\n",
        "        rakip = rakip.to(device, non_blocking=True)\n",
        "        labels = labels.to(device, non_blocking=True)\n",
        "\n",
        "        optimizer.zero_grad()\n",
        "        outputs = model(x_seq, x_static, takim, rakip)\n",
        "\n",
        "        loss = criterion(outputs, labels)\n",
        "\n",
        "        loss.backward()\n",
        "\n",
        "        torch.nn.utils.clip_grad_norm_(model.parameters(), max_norm=1.0)\n",
        "\n",
        "        optimizer.step()\n",
        "\n",
        "        train_epoch_loss += loss.item() * labels.size(0)\n",
        "\n",
        "    # Validation\n",
        "    model.eval()\n",
        "    val_epoch_loss = 0\n",
        "    with torch.no_grad():\n",
        "        for x_seq, x_static, takim, rakip, labels in val_loader:\n",
        "\n",
        "            x_seq = x_seq.to(device, non_blocking=True)\n",
        "            x_static = x_static.to(device, non_blocking=True)\n",
        "            takim = takim.to(device, non_blocking=True)\n",
        "            rakip = rakip.to(device, non_blocking=True)\n",
        "            labels = labels.to(device, non_blocking=True)\n",
        "\n",
        "            outputs = model(x_seq, x_static, takim, rakip)\n",
        "            loss = criterion(outputs, labels)\n",
        "            val_epoch_loss += loss.item() * labels.size(0)\n",
        "\n",
        "    # Loss ortalamaları\n",
        "    train_epoch_loss /= len(train_loader.dataset)\n",
        "    val_epoch_loss /= len(val_loader.dataset)\n",
        "    train_losses.append(train_epoch_loss)\n",
        "    val_losses.append(val_epoch_loss)\n",
        "\n",
        "    # Scheduler update\n",
        "    scheduler.step(val_epoch_loss)\n",
        "\n",
        "    # Erken durdurma kontrolü\n",
        "    if val_epoch_loss < (best_val_loss - min_delta):\n",
        "        best_val_loss = val_epoch_loss\n",
        "        torch.save(model.state_dict(), 'best_patchtst.pth')\n",
        "        no_improve_count = 0\n",
        "        # print(f\"Val loss improved to {val_epoch_loss:.4f}. Model saved.\")\n",
        "    else:\n",
        "        no_improve_count += 1\n",
        "        # print(f\"No improvement in val loss for {no_improve_count}/{patience} epochs.\")\n",
        "\n",
        "        # Patience aşıldıysa eğitimi durdur\n",
        "        if no_improve_count >= patience:\n",
        "            print(f\"Early stopping triggered after {epoch+1} epochs.\")\n",
        "            break\n",
        "\n",
        "    print(f\"Epoch {epoch+1}/30:\")\n",
        "    print(f\"  Train Loss: {train_epoch_loss:.4f} | Val Loss: {val_epoch_loss:.4f}\")\n",
        "\n",
        "total_train_time = time.time() - total_train_start\n",
        "print(f\"Toplam eğitim süresi: {total_train_time:.2f} saniye\")\n",
        "\n",
        "# Loss grafiği\n",
        "plt.figure(figsize=(10, 6))\n",
        "plt.subplot(1, 2, 1)\n",
        "plt.plot(train_losses, label='Train Loss')\n",
        "plt.plot(val_losses, label='Validation Loss')\n",
        "plt.title('Eğitim ve Validation Loss')\n",
        "plt.xlabel('Epochs')\n",
        "plt.ylabel('Loss')\n",
        "plt.legend()\n",
        "plt.grid(True)\n",
        "plt.savefig('loss_curve.png', dpi=300)\n",
        "plt.show()\n",
        "\n",
        "# En iyi modeli yükle\n",
        "model.load_state_dict(torch.load('best_patchtst.pth'))\n",
        "# print(\"Eğitim tamamlandı. En iyi model yüklendi.\")"
      ],
      "metadata": {
        "colab": {
          "base_uri": "https://localhost:8080/"
        },
        "id": "7KmSSHF-Y4rK",
        "outputId": "3f6bb432-b7f7-4bd2-be97-44ef30646d42"
      },
      "execution_count": null,
      "outputs": [
        {
          "output_type": "stream",
          "name": "stderr",
          "text": [
            "/usr/local/lib/python3.11/dist-packages/torch/optim/lr_scheduler.py:62: UserWarning: The verbose parameter is deprecated. Please use get_last_lr() to access the learning rate.\n",
            "  warnings.warn(\n"
          ]
        },
        {
          "output_type": "stream",
          "name": "stdout",
          "text": [
            "Epoch 1/30:\n",
            "  Train Loss: 0.4033 | Val Loss: 0.3904\n",
            "Epoch 2/30:\n",
            "  Train Loss: 0.3778 | Val Loss: 0.3702\n",
            "Epoch 3/30:\n",
            "  Train Loss: 0.3577 | Val Loss: 0.3542\n",
            "Epoch 4/30:\n",
            "  Train Loss: 0.3488 | Val Loss: 0.3507\n",
            "Epoch 5/30:\n",
            "  Train Loss: 0.3414 | Val Loss: 0.3493\n",
            "Epoch 6/30:\n",
            "  Train Loss: 0.3365 | Val Loss: 0.3469\n",
            "Epoch 7/30:\n",
            "  Train Loss: 0.3316 | Val Loss: 0.3482\n",
            "Epoch 8/30:\n",
            "  Train Loss: 0.3267 | Val Loss: 0.3480\n",
            "Epoch 9/30:\n",
            "  Train Loss: 0.3241 | Val Loss: 0.3490\n",
            "Epoch 10/30:\n",
            "  Train Loss: 0.3206 | Val Loss: 0.3472\n",
            "Epoch 11/30:\n",
            "  Train Loss: 0.3162 | Val Loss: 0.3494\n",
            "Epoch 12/30:\n",
            "  Train Loss: 0.3152 | Val Loss: 0.3515\n",
            "Epoch 13/30:\n",
            "  Train Loss: 0.3100 | Val Loss: 0.3510\n",
            "Epoch 14/30:\n",
            "  Train Loss: 0.3127 | Val Loss: 0.3501\n",
            "Epoch 15/30:\n",
            "  Train Loss: 0.3067 | Val Loss: 0.3494\n",
            "Early stopping triggered after 16 epochs.\n",
            "Toplam eğitim süresi: 1918.21 saniye\n"
          ]
        },
        {
          "output_type": "display_data",
          "data": {
            "text/plain": [
              "<Figure size 1000x600 with 1 Axes>"
            ],
            "image/png": "[encoded data removed]"
          },
          "metadata": {}
        },
        {
          "output_type": "execute_result",
          "data": {
            "text/plain": [
              "<All keys matched successfully>"
            ]
          },
          "metadata": {},
          "execution_count": 16
        }
      ]
    },
    {
      "cell_type": "code",
      "source": [
        "# En iyi modeli yükle\n",
        "model.load_state_dict(torch.load('best_patchtst.pth'))\n",
        "model.eval()\n",
        "\n",
        "# Test seti üzerinde değerlendirme\n",
        "test_loss = 0\n",
        "correct = 0\n",
        "total = 0\n",
        "\n",
        "start_time=time.time()\n",
        "\n",
        "# ROC eğrileri için gerekli değişkenler\n",
        "all_probs = []\n",
        "all_labels = []\n",
        "all_preds = []\n",
        "\n",
        "with torch.no_grad():\n",
        "    for x_seq, x_static, takim, rakip, labels in test_loader:\n",
        "        x_seq, x_static = x_seq.to(device), x_static.to(device)\n",
        "        takim, rakip = takim.to(device), rakip.to(device)\n",
        "        labels = labels.to(device)\n",
        "\n",
        "        outputs = model(x_seq, x_static, takim, rakip)\n",
        "        loss = criterion(outputs, labels)\n",
        "        test_loss += loss.item() * labels.size(0)\n",
        "\n",
        "        # Sınıf olasılıklarını hesapla\n",
        "        probs = F.softmax(outputs, dim=1)\n",
        "        _, predicted = outputs.max(1)\n",
        "\n",
        "        # Değerleri topla\n",
        "        all_probs.append(probs.cpu().numpy())\n",
        "        all_labels.extend(labels.cpu().numpy())\n",
        "        all_preds.extend(predicted.cpu().numpy())\n",
        "\n",
        "        total += labels.size(0)\n",
        "        correct += predicted.eq(labels).sum().item()\n",
        "\n",
        "\n",
        "finish_time=time.time()\n",
        "print(f\"Çıkarım süresi: {finish_time-start_time:.2f} saniye\")\n",
        "\n",
        "# Performans metriklerini hesapla\n",
        "test_loss /= len(test_loader.dataset)\n",
        "accuracy = 100. * correct / total\n",
        "\n",
        "print(f\"Test Loss: {test_loss:.4f} | Accuracy: {accuracy:.2f}%\")\n",
        "print()\n",
        "\n",
        "# Sınıf bazlı performans\n",
        "print(classification_report(all_labels, all_preds, target_names=['Mağlubiyet', 'Beraberlik', 'Galibiyet']))\n",
        "\n",
        "# 1. Karmaşıklık Matrisi\n",
        "cm = confusion_matrix(all_labels, all_preds)\n",
        "plt.figure(figsize=(10, 8))\n",
        "sns.heatmap(cm, annot=True, fmt='d', cmap='Blues',\n",
        "            xticklabels=['Mağlubiyet', 'Beraberlik', 'Galibiyet'],\n",
        "            yticklabels=['Mağlubiyet', 'Beraberlik', 'Galibiyet'])\n",
        "plt.xlabel('Tahmin Edilen')\n",
        "plt.ylabel('Gerçek')\n",
        "plt.title('Karmaşıklık Matrisi')\n",
        "plt.savefig('confusion_matrix.png', dpi=300, bbox_inches='tight')\n",
        "plt.show()\n",
        "\n",
        "# 2. ROC Eğrileri (Çok Sınıflı)\n",
        "# Olasılıkları birleştir\n",
        "all_probs = np.vstack(all_probs)\n",
        "\n",
        "# Etiketleri binarize et (one-vs-rest için)\n",
        "binarized_labels = label_binarize(all_labels, classes=[0, 1, 2])\n",
        "n_classes = binarized_labels.shape[1]\n",
        "\n",
        "# ROC hesaplamaları\n",
        "fpr = dict()\n",
        "tpr = dict()\n",
        "roc_auc = dict()\n",
        "\n",
        "for i in range(n_classes):\n",
        "    fpr[i], tpr[i], _ = roc_curve(binarized_labels[:, i], all_probs[:, i])\n",
        "    roc_auc[i] = auc(fpr[i], tpr[i])\n",
        "\n",
        "# Mikro ortalama ROC\n",
        "fpr[\"micro\"], tpr[\"micro\"], _ = roc_curve(binarized_labels.ravel(), all_probs.ravel())\n",
        "roc_auc[\"micro\"] = auc(fpr[\"micro\"], tpr[\"micro\"])\n",
        "\n",
        "# ROC eğrilerini çiz\n",
        "plt.figure(figsize=(10, 8))\n",
        "colors = ['blue', 'red', 'green', 'black']\n",
        "class_names = ['Mağlubiyet', 'Beraberlik', 'Galibiyet']\n",
        "\n",
        "# Her sınıf için ROC\n",
        "for i, color, class_name in zip(range(n_classes), colors, class_names):\n",
        "    plt.plot(fpr[i], tpr[i], color=color, lw=2,\n",
        "             label=f'{class_name} (AUC = {roc_auc[i]:.2f})')\n",
        "\n",
        "# Mikro ortalama ROC\n",
        "plt.plot(fpr[\"micro\"], tpr[\"micro\"], color='black', linestyle=':', lw=2,\n",
        "         label=f'Micro-ortalama (AUC = {roc_auc[\"micro\"]:.2f})')\n",
        "\n",
        "plt.plot([0, 1], [0, 1], 'k--', lw=2)\n",
        "plt.xlim([0.0, 1.0])\n",
        "plt.ylim([0.0, 1.05])\n",
        "plt.xlabel('False Positive Rate (FPR)')\n",
        "plt.ylabel('True Positive Rate (TPR)')\n",
        "plt.title('Çok Sınıflı ROC Eğrisi')\n",
        "plt.legend(loc=\"lower right\")\n",
        "plt.grid(True)\n",
        "plt.savefig('roc_curve.png', dpi=300, bbox_inches='tight')\n",
        "plt.show()\n",
        "\n"
      ],
      "metadata": {
        "colab": {
          "base_uri": "https://localhost:8080/",
          "height": 1000
        },
        "id": "eJZCyYFceydq",
        "outputId": "622e316b-a0a7-4986-8c35-7b5fb44b1141"
      },
      "execution_count": null,
      "outputs": [
        {
          "output_type": "stream",
          "name": "stdout",
          "text": [
            "Çıkarım süresi: 5.42 saniye\n",
            "Test Loss: 0.3763 | Accuracy: 52.68%\n",
            "\n",
            "              precision    recall  f1-score   support\n",
            "\n",
            "  Mağlubiyet       0.45      0.59      0.51       155\n",
            "  Beraberlik       0.26      0.35      0.30       106\n",
            "   Galibiyet       0.78      0.56      0.65       299\n",
            "\n",
            "    accuracy                           0.53       560\n",
            "   macro avg       0.50      0.50      0.49       560\n",
            "weighted avg       0.59      0.53      0.54       560\n",
            "\n"
          ]
        },
        {
          "output_type": "display_data",
          "data": {
            "text/plain": [
              "<Figure size 1000x800 with 2 Axes>"
            ],
            "image/png": "[encoded data removed]"
          },
          "metadata": {}
        },
        {
          "output_type": "display_data",
          "data": {
            "text/plain": [
              "<Figure size 1000x800 with 1 Axes>"
            ],
            "image/png": "[encoded data removed]"
          },
          "metadata": {}
        }
      ]
    },
    {
      "cell_type": "code",
      "source": [
        "# 1. Karmaşıklık matrisini hesapla\n",
        "cm = confusion_matrix(all_labels, all_preds)\n",
        "\n",
        "# 2. Her sınıf için sensitivity ve specificity hesapla\n",
        "sensitivity_list = []\n",
        "specificity_list = []\n",
        "class_names = ['Mağlubiyet', 'Beraberlik', 'Galibiyet']\n",
        "\n",
        "#print(\"Karmaşıklık Matrisi:\")\n",
        "#print(cm)\n",
        "print(\"\\nSınıf Bazında Performans:\")\n",
        "\n",
        "for i, class_name in enumerate(class_names):\n",
        "    # True Positive (TP): Doğru tahmin edilen bu sınıf örnekleri\n",
        "    TP = cm[i, i]\n",
        "\n",
        "    # False Negative (FN): Bu sınıf olması gerekirken başka tahmin edilenler\n",
        "    FN = np.sum(cm[i, :]) - TP\n",
        "\n",
        "    # False Positive (FP): Bu sınıf tahmin edildi ama aslında başka sınıfta olanlar\n",
        "    FP = np.sum(cm[:, i]) - TP\n",
        "\n",
        "    # True Negative (TN): Bu sınıf olmayan ve doğru tahmin edilmeyenler\n",
        "    TN = np.sum(cm) - (TP + FP + FN)\n",
        "\n",
        "    # Sensitivity (Recall) = TP / (TP + FN)\n",
        "    sensitivity = TP / (TP + FN) if (TP + FN) > 0 else 0\n",
        "\n",
        "    # Specificity = TN / (TN + FP)\n",
        "    specificity = TN / (TN + FP) if (TN + FP) > 0 else 0\n",
        "\n",
        "    sensitivity_list.append(sensitivity)\n",
        "    specificity_list.append(specificity)\n",
        "\n",
        "    print(f\"\\n{class_name} Sınıfı:\")\n",
        "    #print(f\"  TP: {TP}, FN: {FN}, FP: {FP}, TN: {TN}\")\n",
        "    print(f\"  Sensitivity (Recall): {sensitivity:.4f}\")\n",
        "    print(f\"  Specificity: {specificity:.4f}\")\n",
        "\n"
      ],
      "metadata": {
        "id": "0FpLsq3lJWTi",
        "colab": {
          "base_uri": "https://localhost:8080/"
        },
        "outputId": "727ef754-d71e-4691-e96a-26fef5da361f"
      },
      "execution_count": null,
      "outputs": [
        {
          "output_type": "stream",
          "name": "stdout",
          "text": [
            "\n",
            "Sınıf Bazında Performans:\n",
            "\n",
            "Mağlubiyet Sınıfı:\n",
            "  Sensitivity (Recall): 0.5935\n",
            "  Specificity: 0.7259\n",
            "\n",
            "Beraberlik Sınıfı:\n",
            "  Sensitivity (Recall): 0.3491\n",
            "  Specificity: 0.7665\n",
            "\n",
            "Galibiyet Sınıfı:\n",
            "  Sensitivity (Recall): 0.5552\n",
            "  Specificity: 0.8161\n"
          ]
        }
      ]
    },
    {
      "cell_type": "code",
      "source": [],
      "metadata": {
        "id": "W93u-Grzlj0I"
      },
      "execution_count": null,
      "outputs": []
    }
  ]
}